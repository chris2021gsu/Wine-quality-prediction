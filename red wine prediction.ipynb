{
 "cells": [
  {
   "cell_type": "code",
   "execution_count": 1,
   "id": "68ee4009",
   "metadata": {},
   "outputs": [],
   "source": [
    "import numpy as np\n",
    "import pandas as pd\n",
    "data = pd.read_csv(\"https://s3.amazonaws.com/filtereddatasets/Wine_Dine/winequality-red.csv\")\n",
    "data1 = pd.read_csv(\"https://s3.amazonaws.com/filtereddatasets/Wine_Dine/winequality-white.csv\")"
   ]
  },
  {
   "cell_type": "code",
   "execution_count": 2,
   "id": "a20f1659",
   "metadata": {},
   "outputs": [
    {
     "data": {
      "text/plain": [
       "(1599, 12)"
      ]
     },
     "execution_count": 2,
     "metadata": {},
     "output_type": "execute_result"
    }
   ],
   "source": [
    "data.shape # (Q) how many data-points and features?"
   ]
  },
  {
   "cell_type": "code",
   "execution_count": 3,
   "id": "33cc2635",
   "metadata": {},
   "outputs": [
    {
     "data": {
      "text/plain": [
       "(4898, 12)"
      ]
     },
     "execution_count": 3,
     "metadata": {},
     "output_type": "execute_result"
    }
   ],
   "source": [
    "data1.shape\n"
   ]
  },
  {
   "cell_type": "code",
   "execution_count": 4,
   "id": "4140ecd9",
   "metadata": {},
   "outputs": [
    {
     "data": {
      "text/html": [
       "<div>\n",
       "<style scoped>\n",
       "    .dataframe tbody tr th:only-of-type {\n",
       "        vertical-align: middle;\n",
       "    }\n",
       "\n",
       "    .dataframe tbody tr th {\n",
       "        vertical-align: top;\n",
       "    }\n",
       "\n",
       "    .dataframe thead th {\n",
       "        text-align: right;\n",
       "    }\n",
       "</style>\n",
       "<table border=\"1\" class=\"dataframe\">\n",
       "  <thead>\n",
       "    <tr style=\"text-align: right;\">\n",
       "      <th></th>\n",
       "      <th>fixed acidity</th>\n",
       "      <th>volatile acidity</th>\n",
       "      <th>citric acid</th>\n",
       "      <th>residual sugar</th>\n",
       "      <th>chlorides</th>\n",
       "      <th>free sulfur dioxide</th>\n",
       "      <th>total sulfur dioxide</th>\n",
       "      <th>density</th>\n",
       "      <th>pH</th>\n",
       "      <th>sulphates</th>\n",
       "      <th>alcohol</th>\n",
       "      <th>quality</th>\n",
       "    </tr>\n",
       "  </thead>\n",
       "  <tbody>\n",
       "    <tr>\n",
       "      <th>0</th>\n",
       "      <td>7.4</td>\n",
       "      <td>0.70</td>\n",
       "      <td>0.00</td>\n",
       "      <td>1.9</td>\n",
       "      <td>0.076</td>\n",
       "      <td>11.0</td>\n",
       "      <td>34.0</td>\n",
       "      <td>0.9978</td>\n",
       "      <td>3.51</td>\n",
       "      <td>0.56</td>\n",
       "      <td>9.4</td>\n",
       "      <td>5</td>\n",
       "    </tr>\n",
       "    <tr>\n",
       "      <th>1</th>\n",
       "      <td>7.8</td>\n",
       "      <td>0.88</td>\n",
       "      <td>0.00</td>\n",
       "      <td>2.6</td>\n",
       "      <td>0.098</td>\n",
       "      <td>25.0</td>\n",
       "      <td>67.0</td>\n",
       "      <td>0.9968</td>\n",
       "      <td>3.20</td>\n",
       "      <td>0.68</td>\n",
       "      <td>9.8</td>\n",
       "      <td>5</td>\n",
       "    </tr>\n",
       "    <tr>\n",
       "      <th>2</th>\n",
       "      <td>7.8</td>\n",
       "      <td>0.76</td>\n",
       "      <td>0.04</td>\n",
       "      <td>2.3</td>\n",
       "      <td>0.092</td>\n",
       "      <td>15.0</td>\n",
       "      <td>54.0</td>\n",
       "      <td>0.9970</td>\n",
       "      <td>3.26</td>\n",
       "      <td>0.65</td>\n",
       "      <td>9.8</td>\n",
       "      <td>5</td>\n",
       "    </tr>\n",
       "    <tr>\n",
       "      <th>3</th>\n",
       "      <td>11.2</td>\n",
       "      <td>0.28</td>\n",
       "      <td>0.56</td>\n",
       "      <td>1.9</td>\n",
       "      <td>0.075</td>\n",
       "      <td>17.0</td>\n",
       "      <td>60.0</td>\n",
       "      <td>0.9980</td>\n",
       "      <td>3.16</td>\n",
       "      <td>0.58</td>\n",
       "      <td>9.8</td>\n",
       "      <td>6</td>\n",
       "    </tr>\n",
       "    <tr>\n",
       "      <th>4</th>\n",
       "      <td>7.4</td>\n",
       "      <td>0.70</td>\n",
       "      <td>0.00</td>\n",
       "      <td>1.9</td>\n",
       "      <td>0.076</td>\n",
       "      <td>11.0</td>\n",
       "      <td>34.0</td>\n",
       "      <td>0.9978</td>\n",
       "      <td>3.51</td>\n",
       "      <td>0.56</td>\n",
       "      <td>9.4</td>\n",
       "      <td>5</td>\n",
       "    </tr>\n",
       "  </tbody>\n",
       "</table>\n",
       "</div>"
      ],
      "text/plain": [
       "   fixed acidity  volatile acidity  citric acid  residual sugar  chlorides  \\\n",
       "0            7.4              0.70         0.00             1.9      0.076   \n",
       "1            7.8              0.88         0.00             2.6      0.098   \n",
       "2            7.8              0.76         0.04             2.3      0.092   \n",
       "3           11.2              0.28         0.56             1.9      0.075   \n",
       "4            7.4              0.70         0.00             1.9      0.076   \n",
       "\n",
       "   free sulfur dioxide  total sulfur dioxide  density    pH  sulphates  \\\n",
       "0                 11.0                  34.0   0.9978  3.51       0.56   \n",
       "1                 25.0                  67.0   0.9968  3.20       0.68   \n",
       "2                 15.0                  54.0   0.9970  3.26       0.65   \n",
       "3                 17.0                  60.0   0.9980  3.16       0.58   \n",
       "4                 11.0                  34.0   0.9978  3.51       0.56   \n",
       "\n",
       "   alcohol  quality  \n",
       "0      9.4        5  \n",
       "1      9.8        5  \n",
       "2      9.8        5  \n",
       "3      9.8        6  \n",
       "4      9.4        5  "
      ]
     },
     "execution_count": 4,
     "metadata": {},
     "output_type": "execute_result"
    }
   ],
   "source": [
    "data.head()"
   ]
  },
  {
   "cell_type": "code",
   "execution_count": 5,
   "id": "10ceb9dd",
   "metadata": {},
   "outputs": [
    {
     "data": {
      "text/html": [
       "<div>\n",
       "<style scoped>\n",
       "    .dataframe tbody tr th:only-of-type {\n",
       "        vertical-align: middle;\n",
       "    }\n",
       "\n",
       "    .dataframe tbody tr th {\n",
       "        vertical-align: top;\n",
       "    }\n",
       "\n",
       "    .dataframe thead th {\n",
       "        text-align: right;\n",
       "    }\n",
       "</style>\n",
       "<table border=\"1\" class=\"dataframe\">\n",
       "  <thead>\n",
       "    <tr style=\"text-align: right;\">\n",
       "      <th></th>\n",
       "      <th>fixed acidity</th>\n",
       "      <th>volatile acidity</th>\n",
       "      <th>citric acid</th>\n",
       "      <th>residual sugar</th>\n",
       "      <th>chlorides</th>\n",
       "      <th>free sulfur dioxide</th>\n",
       "      <th>total sulfur dioxide</th>\n",
       "      <th>density</th>\n",
       "      <th>pH</th>\n",
       "      <th>sulphates</th>\n",
       "      <th>alcohol</th>\n",
       "      <th>quality</th>\n",
       "    </tr>\n",
       "  </thead>\n",
       "  <tbody>\n",
       "    <tr>\n",
       "      <th>0</th>\n",
       "      <td>7.0</td>\n",
       "      <td>0.27</td>\n",
       "      <td>0.36</td>\n",
       "      <td>20.7</td>\n",
       "      <td>0.045</td>\n",
       "      <td>45.0</td>\n",
       "      <td>170.0</td>\n",
       "      <td>1.0010</td>\n",
       "      <td>3.00</td>\n",
       "      <td>0.45</td>\n",
       "      <td>8.8</td>\n",
       "      <td>6</td>\n",
       "    </tr>\n",
       "    <tr>\n",
       "      <th>1</th>\n",
       "      <td>6.3</td>\n",
       "      <td>0.30</td>\n",
       "      <td>0.34</td>\n",
       "      <td>1.6</td>\n",
       "      <td>0.049</td>\n",
       "      <td>14.0</td>\n",
       "      <td>132.0</td>\n",
       "      <td>0.9940</td>\n",
       "      <td>3.30</td>\n",
       "      <td>0.49</td>\n",
       "      <td>9.5</td>\n",
       "      <td>6</td>\n",
       "    </tr>\n",
       "    <tr>\n",
       "      <th>2</th>\n",
       "      <td>8.1</td>\n",
       "      <td>0.28</td>\n",
       "      <td>0.40</td>\n",
       "      <td>6.9</td>\n",
       "      <td>0.050</td>\n",
       "      <td>30.0</td>\n",
       "      <td>97.0</td>\n",
       "      <td>0.9951</td>\n",
       "      <td>3.26</td>\n",
       "      <td>0.44</td>\n",
       "      <td>10.1</td>\n",
       "      <td>6</td>\n",
       "    </tr>\n",
       "    <tr>\n",
       "      <th>3</th>\n",
       "      <td>7.2</td>\n",
       "      <td>0.23</td>\n",
       "      <td>0.32</td>\n",
       "      <td>8.5</td>\n",
       "      <td>0.058</td>\n",
       "      <td>47.0</td>\n",
       "      <td>186.0</td>\n",
       "      <td>0.9956</td>\n",
       "      <td>3.19</td>\n",
       "      <td>0.40</td>\n",
       "      <td>9.9</td>\n",
       "      <td>6</td>\n",
       "    </tr>\n",
       "    <tr>\n",
       "      <th>4</th>\n",
       "      <td>7.2</td>\n",
       "      <td>0.23</td>\n",
       "      <td>0.32</td>\n",
       "      <td>8.5</td>\n",
       "      <td>0.058</td>\n",
       "      <td>47.0</td>\n",
       "      <td>186.0</td>\n",
       "      <td>0.9956</td>\n",
       "      <td>3.19</td>\n",
       "      <td>0.40</td>\n",
       "      <td>9.9</td>\n",
       "      <td>6</td>\n",
       "    </tr>\n",
       "  </tbody>\n",
       "</table>\n",
       "</div>"
      ],
      "text/plain": [
       "   fixed acidity  volatile acidity  citric acid  residual sugar  chlorides  \\\n",
       "0            7.0              0.27         0.36            20.7      0.045   \n",
       "1            6.3              0.30         0.34             1.6      0.049   \n",
       "2            8.1              0.28         0.40             6.9      0.050   \n",
       "3            7.2              0.23         0.32             8.5      0.058   \n",
       "4            7.2              0.23         0.32             8.5      0.058   \n",
       "\n",
       "   free sulfur dioxide  total sulfur dioxide  density    pH  sulphates  \\\n",
       "0                 45.0                 170.0   1.0010  3.00       0.45   \n",
       "1                 14.0                 132.0   0.9940  3.30       0.49   \n",
       "2                 30.0                  97.0   0.9951  3.26       0.44   \n",
       "3                 47.0                 186.0   0.9956  3.19       0.40   \n",
       "4                 47.0                 186.0   0.9956  3.19       0.40   \n",
       "\n",
       "   alcohol  quality  \n",
       "0      8.8        6  \n",
       "1      9.5        6  \n",
       "2     10.1        6  \n",
       "3      9.9        6  \n",
       "4      9.9        6  "
      ]
     },
     "execution_count": 5,
     "metadata": {},
     "output_type": "execute_result"
    }
   ],
   "source": [
    "data1.head()"
   ]
  },
  {
   "cell_type": "markdown",
   "id": "f4218a2b",
   "metadata": {},
   "source": [
    "Questions to be answered :\n",
    "\n",
    "what is the best definition of wine quality.\n",
    "Red wine: relationship between ph and quality of wine ?\n",
    "White wine: residual sugar related to ph\n",
    "build a model to predict quality of red wine..\n",
    "cross validation of the model\n",
    "use the same model for white wine...\n",
    "As the situation demands , i will first build a model for red wine"
   ]
  },
  {
   "cell_type": "code",
   "execution_count": 6,
   "id": "c1b1998d",
   "metadata": {},
   "outputs": [
    {
     "name": "stdout",
     "output_type": "stream",
     "text": [
      "<class 'pandas.core.frame.DataFrame'>\n",
      "RangeIndex: 1599 entries, 0 to 1598\n",
      "Data columns (total 12 columns):\n",
      " #   Column                Non-Null Count  Dtype  \n",
      "---  ------                --------------  -----  \n",
      " 0   fixed acidity         1599 non-null   float64\n",
      " 1   volatile acidity      1599 non-null   float64\n",
      " 2   citric acid           1599 non-null   float64\n",
      " 3   residual sugar        1599 non-null   float64\n",
      " 4   chlorides             1599 non-null   float64\n",
      " 5   free sulfur dioxide   1599 non-null   float64\n",
      " 6   total sulfur dioxide  1599 non-null   float64\n",
      " 7   density               1599 non-null   float64\n",
      " 8   pH                    1599 non-null   float64\n",
      " 9   sulphates             1599 non-null   float64\n",
      " 10  alcohol               1599 non-null   float64\n",
      " 11  quality               1599 non-null   int64  \n",
      "dtypes: float64(11), int64(1)\n",
      "memory usage: 150.0 KB\n"
     ]
    }
   ],
   "source": [
    "data.info()"
   ]
  },
  {
   "cell_type": "code",
   "execution_count": 7,
   "id": "67586133",
   "metadata": {},
   "outputs": [
    {
     "data": {
      "text/plain": [
       "fixed acidity           0\n",
       "volatile acidity        0\n",
       "citric acid             0\n",
       "residual sugar          0\n",
       "chlorides               0\n",
       "free sulfur dioxide     0\n",
       "total sulfur dioxide    0\n",
       "density                 0\n",
       "pH                      0\n",
       "sulphates               0\n",
       "alcohol                 0\n",
       "quality                 0\n",
       "dtype: int64"
      ]
     },
     "execution_count": 7,
     "metadata": {},
     "output_type": "execute_result"
    }
   ],
   "source": [
    "#checking any null values ...\n",
    "data.isnull().sum()"
   ]
  },
  {
   "cell_type": "code",
   "execution_count": 8,
   "id": "1f39ce5b",
   "metadata": {},
   "outputs": [],
   "source": [
    "import pandas as pd\n",
    "import seaborn as sns\n",
    "import matplotlib.pyplot as plt\n",
    "import numpy as np\n"
   ]
  },
  {
   "cell_type": "code",
   "execution_count": 9,
   "id": "080d75d7",
   "metadata": {},
   "outputs": [
    {
     "data": {
      "text/plain": [
       "5    681\n",
       "6    638\n",
       "7    199\n",
       "4     53\n",
       "8     18\n",
       "3     10\n",
       "Name: quality, dtype: int64"
      ]
     },
     "execution_count": 9,
     "metadata": {},
     "output_type": "execute_result"
    }
   ],
   "source": [
    "#(Q) How many data points for each class of quality are present? \n",
    "\n",
    "data[\"quality\"].value_counts()"
   ]
  },
  {
   "cell_type": "code",
   "execution_count": 10,
   "id": "3464999e",
   "metadata": {},
   "outputs": [
    {
     "data": {
      "text/html": [
       "<div>\n",
       "<style scoped>\n",
       "    .dataframe tbody tr th:only-of-type {\n",
       "        vertical-align: middle;\n",
       "    }\n",
       "\n",
       "    .dataframe tbody tr th {\n",
       "        vertical-align: top;\n",
       "    }\n",
       "\n",
       "    .dataframe thead th {\n",
       "        text-align: right;\n",
       "    }\n",
       "</style>\n",
       "<table border=\"1\" class=\"dataframe\">\n",
       "  <thead>\n",
       "    <tr style=\"text-align: right;\">\n",
       "      <th></th>\n",
       "      <th>fixed acidity</th>\n",
       "      <th>volatile acidity</th>\n",
       "      <th>citric acid</th>\n",
       "      <th>residual sugar</th>\n",
       "      <th>chlorides</th>\n",
       "      <th>free sulfur dioxide</th>\n",
       "      <th>total sulfur dioxide</th>\n",
       "      <th>density</th>\n",
       "      <th>pH</th>\n",
       "      <th>sulphates</th>\n",
       "      <th>alcohol</th>\n",
       "      <th>quality</th>\n",
       "    </tr>\n",
       "  </thead>\n",
       "  <tbody>\n",
       "    <tr>\n",
       "      <th>count</th>\n",
       "      <td>1599.000000</td>\n",
       "      <td>1599.000000</td>\n",
       "      <td>1599.000000</td>\n",
       "      <td>1599.000000</td>\n",
       "      <td>1599.000000</td>\n",
       "      <td>1599.000000</td>\n",
       "      <td>1599.000000</td>\n",
       "      <td>1599.000000</td>\n",
       "      <td>1599.000000</td>\n",
       "      <td>1599.000000</td>\n",
       "      <td>1599.000000</td>\n",
       "      <td>1599.000000</td>\n",
       "    </tr>\n",
       "    <tr>\n",
       "      <th>mean</th>\n",
       "      <td>8.319637</td>\n",
       "      <td>0.527821</td>\n",
       "      <td>0.270976</td>\n",
       "      <td>2.538806</td>\n",
       "      <td>0.087467</td>\n",
       "      <td>15.874922</td>\n",
       "      <td>46.467792</td>\n",
       "      <td>0.996747</td>\n",
       "      <td>3.311113</td>\n",
       "      <td>0.658149</td>\n",
       "      <td>10.422983</td>\n",
       "      <td>5.636023</td>\n",
       "    </tr>\n",
       "    <tr>\n",
       "      <th>std</th>\n",
       "      <td>1.741096</td>\n",
       "      <td>0.179060</td>\n",
       "      <td>0.194801</td>\n",
       "      <td>1.409928</td>\n",
       "      <td>0.047065</td>\n",
       "      <td>10.460157</td>\n",
       "      <td>32.895324</td>\n",
       "      <td>0.001887</td>\n",
       "      <td>0.154386</td>\n",
       "      <td>0.169507</td>\n",
       "      <td>1.065668</td>\n",
       "      <td>0.807569</td>\n",
       "    </tr>\n",
       "    <tr>\n",
       "      <th>min</th>\n",
       "      <td>4.600000</td>\n",
       "      <td>0.120000</td>\n",
       "      <td>0.000000</td>\n",
       "      <td>0.900000</td>\n",
       "      <td>0.012000</td>\n",
       "      <td>1.000000</td>\n",
       "      <td>6.000000</td>\n",
       "      <td>0.990070</td>\n",
       "      <td>2.740000</td>\n",
       "      <td>0.330000</td>\n",
       "      <td>8.400000</td>\n",
       "      <td>3.000000</td>\n",
       "    </tr>\n",
       "    <tr>\n",
       "      <th>25%</th>\n",
       "      <td>7.100000</td>\n",
       "      <td>0.390000</td>\n",
       "      <td>0.090000</td>\n",
       "      <td>1.900000</td>\n",
       "      <td>0.070000</td>\n",
       "      <td>7.000000</td>\n",
       "      <td>22.000000</td>\n",
       "      <td>0.995600</td>\n",
       "      <td>3.210000</td>\n",
       "      <td>0.550000</td>\n",
       "      <td>9.500000</td>\n",
       "      <td>5.000000</td>\n",
       "    </tr>\n",
       "    <tr>\n",
       "      <th>50%</th>\n",
       "      <td>7.900000</td>\n",
       "      <td>0.520000</td>\n",
       "      <td>0.260000</td>\n",
       "      <td>2.200000</td>\n",
       "      <td>0.079000</td>\n",
       "      <td>14.000000</td>\n",
       "      <td>38.000000</td>\n",
       "      <td>0.996750</td>\n",
       "      <td>3.310000</td>\n",
       "      <td>0.620000</td>\n",
       "      <td>10.200000</td>\n",
       "      <td>6.000000</td>\n",
       "    </tr>\n",
       "    <tr>\n",
       "      <th>75%</th>\n",
       "      <td>9.200000</td>\n",
       "      <td>0.640000</td>\n",
       "      <td>0.420000</td>\n",
       "      <td>2.600000</td>\n",
       "      <td>0.090000</td>\n",
       "      <td>21.000000</td>\n",
       "      <td>62.000000</td>\n",
       "      <td>0.997835</td>\n",
       "      <td>3.400000</td>\n",
       "      <td>0.730000</td>\n",
       "      <td>11.100000</td>\n",
       "      <td>6.000000</td>\n",
       "    </tr>\n",
       "    <tr>\n",
       "      <th>max</th>\n",
       "      <td>15.900000</td>\n",
       "      <td>1.580000</td>\n",
       "      <td>1.000000</td>\n",
       "      <td>15.500000</td>\n",
       "      <td>0.611000</td>\n",
       "      <td>72.000000</td>\n",
       "      <td>289.000000</td>\n",
       "      <td>1.003690</td>\n",
       "      <td>4.010000</td>\n",
       "      <td>2.000000</td>\n",
       "      <td>14.900000</td>\n",
       "      <td>8.000000</td>\n",
       "    </tr>\n",
       "  </tbody>\n",
       "</table>\n",
       "</div>"
      ],
      "text/plain": [
       "       fixed acidity  volatile acidity  citric acid  residual sugar  \\\n",
       "count    1599.000000       1599.000000  1599.000000     1599.000000   \n",
       "mean        8.319637          0.527821     0.270976        2.538806   \n",
       "std         1.741096          0.179060     0.194801        1.409928   \n",
       "min         4.600000          0.120000     0.000000        0.900000   \n",
       "25%         7.100000          0.390000     0.090000        1.900000   \n",
       "50%         7.900000          0.520000     0.260000        2.200000   \n",
       "75%         9.200000          0.640000     0.420000        2.600000   \n",
       "max        15.900000          1.580000     1.000000       15.500000   \n",
       "\n",
       "         chlorides  free sulfur dioxide  total sulfur dioxide      density  \\\n",
       "count  1599.000000          1599.000000           1599.000000  1599.000000   \n",
       "mean      0.087467            15.874922             46.467792     0.996747   \n",
       "std       0.047065            10.460157             32.895324     0.001887   \n",
       "min       0.012000             1.000000              6.000000     0.990070   \n",
       "25%       0.070000             7.000000             22.000000     0.995600   \n",
       "50%       0.079000            14.000000             38.000000     0.996750   \n",
       "75%       0.090000            21.000000             62.000000     0.997835   \n",
       "max       0.611000            72.000000            289.000000     1.003690   \n",
       "\n",
       "                pH    sulphates      alcohol      quality  \n",
       "count  1599.000000  1599.000000  1599.000000  1599.000000  \n",
       "mean      3.311113     0.658149    10.422983     5.636023  \n",
       "std       0.154386     0.169507     1.065668     0.807569  \n",
       "min       2.740000     0.330000     8.400000     3.000000  \n",
       "25%       3.210000     0.550000     9.500000     5.000000  \n",
       "50%       3.310000     0.620000    10.200000     6.000000  \n",
       "75%       3.400000     0.730000    11.100000     6.000000  \n",
       "max       4.010000     2.000000    14.900000     8.000000  "
      ]
     },
     "execution_count": 10,
     "metadata": {},
     "output_type": "execute_result"
    }
   ],
   "source": [
    "#descriptive statistics of the data \n",
    "data.describe()"
   ]
  },
  {
   "cell_type": "code",
   "execution_count": 11,
   "id": "1422e39b",
   "metadata": {},
   "outputs": [
    {
     "data": {
      "image/png": "[encoded data removed]",
      "text/plain": [
       "<Figure size 432x288 with 1 Axes>"
      ]
     },
     "metadata": {
      "needs_background": "light"
     },
     "output_type": "display_data"
    }
   ],
   "source": [
    "#2-D scatter plot:\n",
    "# to understand the relationship between ph value and quality in red wine...\n",
    "\n",
    "data.plot(kind='scatter', x='pH', y='quality') ;\n",
    "plt.show()\n",
    "\n",
    "#cannot make much sense out it \n",
    "#What if we color the points by their class-label"
   ]
  },
  {
   "cell_type": "markdown",
   "id": "d5878917",
   "metadata": {},
   "source": [
    "#with same ph there are some cases where the quality is also the same..."
   ]
  },
  {
   "cell_type": "code",
   "execution_count": 12,
   "id": "883dabfd",
   "metadata": {},
   "outputs": [
    {
     "data": {
      "text/plain": [
       "<AxesSubplot:xlabel='pH', ylabel='quality'>"
      ]
     },
     "execution_count": 12,
     "metadata": {},
     "output_type": "execute_result"
    },
    {
     "data": {
      "image/png": "[encoded data removed]",
      "text/plain": [
       "<Figure size 720x432 with 1 Axes>"
      ]
     },
     "metadata": {
      "needs_background": "light"
     },
     "output_type": "display_data"
    }
   ],
   "source": [
    "\n",
    "fig = plt.figure(figsize = (10,6))\n",
    "sns.barplot(x = 'pH', y = 'quality', data = data)"
   ]
  },
  {
   "cell_type": "markdown",
   "id": "d20746af",
   "metadata": {},
   "source": [
    "with this result we cannot claim that quality of wine always decreases with decrease in ph ...\n",
    "\n",
    "we can try and understand which feature results in increasing quality of red wine ... for this we can create a subdivision among our quality dataset as \"good\"=2 and \"bad\"=1 and assign it to a new feature call \""
   ]
  },
  {
   "cell_type": "code",
   "execution_count": 13,
   "id": "9dded14d",
   "metadata": {},
   "outputs": [],
   "source": [
    "new=[]\n",
    "for row in data['quality']:\n",
    "    if (row<=5):\n",
    "        val=1\n",
    "    else:\n",
    "        val=2\n",
    "    new.append(val)"
   ]
  },
  {
   "cell_type": "code",
   "execution_count": 15,
   "id": "bb8fda83",
   "metadata": {},
   "outputs": [
    {
     "data": {
      "text/html": [
       "<div>\n",
       "<style scoped>\n",
       "    .dataframe tbody tr th:only-of-type {\n",
       "        vertical-align: middle;\n",
       "    }\n",
       "\n",
       "    .dataframe tbody tr th {\n",
       "        vertical-align: top;\n",
       "    }\n",
       "\n",
       "    .dataframe thead th {\n",
       "        text-align: right;\n",
       "    }\n",
       "</style>\n",
       "<table border=\"1\" class=\"dataframe\">\n",
       "  <thead>\n",
       "    <tr style=\"text-align: right;\">\n",
       "      <th></th>\n",
       "      <th>fixed acidity</th>\n",
       "      <th>volatile acidity</th>\n",
       "      <th>citric acid</th>\n",
       "      <th>residual sugar</th>\n",
       "      <th>chlorides</th>\n",
       "      <th>free sulfur dioxide</th>\n",
       "      <th>total sulfur dioxide</th>\n",
       "      <th>density</th>\n",
       "      <th>pH</th>\n",
       "      <th>sulphates</th>\n",
       "      <th>alcohol</th>\n",
       "      <th>quality</th>\n",
       "      <th>newquality</th>\n",
       "    </tr>\n",
       "  </thead>\n",
       "  <tbody>\n",
       "    <tr>\n",
       "      <th>0</th>\n",
       "      <td>7.4</td>\n",
       "      <td>0.70</td>\n",
       "      <td>0.00</td>\n",
       "      <td>1.9</td>\n",
       "      <td>0.076</td>\n",
       "      <td>11.0</td>\n",
       "      <td>34.0</td>\n",
       "      <td>0.9978</td>\n",
       "      <td>3.51</td>\n",
       "      <td>0.56</td>\n",
       "      <td>9.4</td>\n",
       "      <td>5</td>\n",
       "      <td>1</td>\n",
       "    </tr>\n",
       "    <tr>\n",
       "      <th>1</th>\n",
       "      <td>7.8</td>\n",
       "      <td>0.88</td>\n",
       "      <td>0.00</td>\n",
       "      <td>2.6</td>\n",
       "      <td>0.098</td>\n",
       "      <td>25.0</td>\n",
       "      <td>67.0</td>\n",
       "      <td>0.9968</td>\n",
       "      <td>3.20</td>\n",
       "      <td>0.68</td>\n",
       "      <td>9.8</td>\n",
       "      <td>5</td>\n",
       "      <td>1</td>\n",
       "    </tr>\n",
       "    <tr>\n",
       "      <th>2</th>\n",
       "      <td>7.8</td>\n",
       "      <td>0.76</td>\n",
       "      <td>0.04</td>\n",
       "      <td>2.3</td>\n",
       "      <td>0.092</td>\n",
       "      <td>15.0</td>\n",
       "      <td>54.0</td>\n",
       "      <td>0.9970</td>\n",
       "      <td>3.26</td>\n",
       "      <td>0.65</td>\n",
       "      <td>9.8</td>\n",
       "      <td>5</td>\n",
       "      <td>1</td>\n",
       "    </tr>\n",
       "    <tr>\n",
       "      <th>3</th>\n",
       "      <td>11.2</td>\n",
       "      <td>0.28</td>\n",
       "      <td>0.56</td>\n",
       "      <td>1.9</td>\n",
       "      <td>0.075</td>\n",
       "      <td>17.0</td>\n",
       "      <td>60.0</td>\n",
       "      <td>0.9980</td>\n",
       "      <td>3.16</td>\n",
       "      <td>0.58</td>\n",
       "      <td>9.8</td>\n",
       "      <td>6</td>\n",
       "      <td>2</td>\n",
       "    </tr>\n",
       "    <tr>\n",
       "      <th>4</th>\n",
       "      <td>7.4</td>\n",
       "      <td>0.70</td>\n",
       "      <td>0.00</td>\n",
       "      <td>1.9</td>\n",
       "      <td>0.076</td>\n",
       "      <td>11.0</td>\n",
       "      <td>34.0</td>\n",
       "      <td>0.9978</td>\n",
       "      <td>3.51</td>\n",
       "      <td>0.56</td>\n",
       "      <td>9.4</td>\n",
       "      <td>5</td>\n",
       "      <td>1</td>\n",
       "    </tr>\n",
       "  </tbody>\n",
       "</table>\n",
       "</div>"
      ],
      "text/plain": [
       "   fixed acidity  volatile acidity  citric acid  residual sugar  chlorides  \\\n",
       "0            7.4              0.70         0.00             1.9      0.076   \n",
       "1            7.8              0.88         0.00             2.6      0.098   \n",
       "2            7.8              0.76         0.04             2.3      0.092   \n",
       "3           11.2              0.28         0.56             1.9      0.075   \n",
       "4            7.4              0.70         0.00             1.9      0.076   \n",
       "\n",
       "   free sulfur dioxide  total sulfur dioxide  density    pH  sulphates  \\\n",
       "0                 11.0                  34.0   0.9978  3.51       0.56   \n",
       "1                 25.0                  67.0   0.9968  3.20       0.68   \n",
       "2                 15.0                  54.0   0.9970  3.26       0.65   \n",
       "3                 17.0                  60.0   0.9980  3.16       0.58   \n",
       "4                 11.0                  34.0   0.9978  3.51       0.56   \n",
       "\n",
       "   alcohol  quality  newquality  \n",
       "0      9.4        5           1  \n",
       "1      9.8        5           1  \n",
       "2      9.8        5           1  \n",
       "3      9.8        6           2  \n",
       "4      9.4        5           1  "
      ]
     },
     "execution_count": 15,
     "metadata": {},
     "output_type": "execute_result"
    }
   ],
   "source": [
    "data['newquality']=new\n",
    "data.head()"
   ]
  },
  {
   "cell_type": "code",
   "execution_count": 16,
   "id": "6f95ff3f",
   "metadata": {},
   "outputs": [
    {
     "name": "stdout",
     "output_type": "stream",
     "text": [
      "[(1, 744), (2, 855)]\n"
     ]
    }
   ],
   "source": [
    "from collections import Counter\n",
    "print(sorted(Counter(data['newquality']).items()))"
   ]
  },
  {
   "cell_type": "markdown",
   "id": "b6f5f8ed",
   "metadata": {},
   "source": [
    "unbalanced data showing low quality in smaller number than higher quality.. we will oversample the low quality data"
   ]
  },
  {
   "cell_type": "code",
   "execution_count": 18,
   "id": "2d011b5a",
   "metadata": {},
   "outputs": [
    {
     "name": "stderr",
     "output_type": "stream",
     "text": [
      "C:\\Users\\91730\\anaconda3\\lib\\site-packages\\seaborn\\_decorators.py:36: FutureWarning: Pass the following variable as a keyword arg: x. From version 0.12, the only valid positional argument will be `data`, and passing other arguments without an explicit keyword will result in an error or misinterpretation.\n",
      "  warnings.warn(\n"
     ]
    },
    {
     "data": {
      "text/plain": [
       "<AxesSubplot:xlabel='newquality', ylabel='count'>"
      ]
     },
     "execution_count": 18,
     "metadata": {},
     "output_type": "execute_result"
    },
    {
     "data": {
      "image/png": "[encoded data removed]",
      "text/plain": [
       "<Figure size 432x288 with 1 Axes>"
      ]
     },
     "metadata": {
      "needs_background": "light"
     },
     "output_type": "display_data"
    }
   ],
   "source": [
    "# quantity ot good vs bad quality wines \n",
    "sns.countplot(data['newquality'],palette='OrRd')\n",
    "#here 1="
   ]
  },
  {
   "cell_type": "code",
   "execution_count": 19,
   "id": "16c363ea",
   "metadata": {},
   "outputs": [
    {
     "data": {
      "text/plain": [
       "<AxesSubplot:>"
      ]
     },
     "execution_count": 19,
     "metadata": {},
     "output_type": "execute_result"
    },
    {
     "data": {
      "image/png": "[encoded data removed]",
      "text/plain": [
       "<Figure size 432x288 with 2 Axes>"
      ]
     },
     "metadata": {
      "needs_background": "light"
     },
     "output_type": "display_data"
    }
   ],
   "source": [
    "#drawing the heatmap to understand individual relationships...\n",
    "#correaltion map\n",
    "sns.heatmap(data.corr())"
   ]
  },
  {
   "cell_type": "code",
   "execution_count": 20,
   "id": "b6229c4d",
   "metadata": {},
   "outputs": [
    {
     "data": {
      "text/html": [
       "<div>\n",
       "<style scoped>\n",
       "    .dataframe tbody tr th:only-of-type {\n",
       "        vertical-align: middle;\n",
       "    }\n",
       "\n",
       "    .dataframe tbody tr th {\n",
       "        vertical-align: top;\n",
       "    }\n",
       "\n",
       "    .dataframe thead th {\n",
       "        text-align: right;\n",
       "    }\n",
       "</style>\n",
       "<table border=\"1\" class=\"dataframe\">\n",
       "  <thead>\n",
       "    <tr style=\"text-align: right;\">\n",
       "      <th></th>\n",
       "      <th>fixed acidity</th>\n",
       "      <th>volatile acidity</th>\n",
       "      <th>citric acid</th>\n",
       "      <th>residual sugar</th>\n",
       "      <th>chlorides</th>\n",
       "      <th>free sulfur dioxide</th>\n",
       "      <th>total sulfur dioxide</th>\n",
       "      <th>density</th>\n",
       "      <th>pH</th>\n",
       "      <th>sulphates</th>\n",
       "      <th>alcohol</th>\n",
       "      <th>quality</th>\n",
       "      <th>newquality</th>\n",
       "    </tr>\n",
       "  </thead>\n",
       "  <tbody>\n",
       "    <tr>\n",
       "      <th>fixed acidity</th>\n",
       "      <td>1.000000</td>\n",
       "      <td>-0.256131</td>\n",
       "      <td>0.671703</td>\n",
       "      <td>0.114777</td>\n",
       "      <td>0.093705</td>\n",
       "      <td>-0.153794</td>\n",
       "      <td>-0.113181</td>\n",
       "      <td>0.668047</td>\n",
       "      <td>-0.682978</td>\n",
       "      <td>0.183006</td>\n",
       "      <td>-0.061668</td>\n",
       "      <td>0.124052</td>\n",
       "      <td>0.095093</td>\n",
       "    </tr>\n",
       "    <tr>\n",
       "      <th>volatile acidity</th>\n",
       "      <td>-0.256131</td>\n",
       "      <td>1.000000</td>\n",
       "      <td>-0.552496</td>\n",
       "      <td>0.001918</td>\n",
       "      <td>0.061298</td>\n",
       "      <td>-0.010504</td>\n",
       "      <td>0.076470</td>\n",
       "      <td>0.022026</td>\n",
       "      <td>0.234937</td>\n",
       "      <td>-0.260987</td>\n",
       "      <td>-0.202288</td>\n",
       "      <td>-0.390558</td>\n",
       "      <td>-0.321441</td>\n",
       "    </tr>\n",
       "    <tr>\n",
       "      <th>citric acid</th>\n",
       "      <td>0.671703</td>\n",
       "      <td>-0.552496</td>\n",
       "      <td>1.000000</td>\n",
       "      <td>0.143577</td>\n",
       "      <td>0.203823</td>\n",
       "      <td>-0.060978</td>\n",
       "      <td>0.035533</td>\n",
       "      <td>0.364947</td>\n",
       "      <td>-0.541904</td>\n",
       "      <td>0.312770</td>\n",
       "      <td>0.109903</td>\n",
       "      <td>0.226373</td>\n",
       "      <td>0.159129</td>\n",
       "    </tr>\n",
       "    <tr>\n",
       "      <th>residual sugar</th>\n",
       "      <td>0.114777</td>\n",
       "      <td>0.001918</td>\n",
       "      <td>0.143577</td>\n",
       "      <td>1.000000</td>\n",
       "      <td>0.055610</td>\n",
       "      <td>0.187049</td>\n",
       "      <td>0.203028</td>\n",
       "      <td>0.355283</td>\n",
       "      <td>-0.085652</td>\n",
       "      <td>0.005527</td>\n",
       "      <td>0.042075</td>\n",
       "      <td>0.013732</td>\n",
       "      <td>-0.002160</td>\n",
       "    </tr>\n",
       "    <tr>\n",
       "      <th>chlorides</th>\n",
       "      <td>0.093705</td>\n",
       "      <td>0.061298</td>\n",
       "      <td>0.203823</td>\n",
       "      <td>0.055610</td>\n",
       "      <td>1.000000</td>\n",
       "      <td>0.005562</td>\n",
       "      <td>0.047400</td>\n",
       "      <td>0.200632</td>\n",
       "      <td>-0.265026</td>\n",
       "      <td>0.371260</td>\n",
       "      <td>-0.221141</td>\n",
       "      <td>-0.128907</td>\n",
       "      <td>-0.109494</td>\n",
       "    </tr>\n",
       "    <tr>\n",
       "      <th>free sulfur dioxide</th>\n",
       "      <td>-0.153794</td>\n",
       "      <td>-0.010504</td>\n",
       "      <td>-0.060978</td>\n",
       "      <td>0.187049</td>\n",
       "      <td>0.005562</td>\n",
       "      <td>1.000000</td>\n",
       "      <td>0.667666</td>\n",
       "      <td>-0.021946</td>\n",
       "      <td>0.070377</td>\n",
       "      <td>0.051658</td>\n",
       "      <td>-0.069408</td>\n",
       "      <td>-0.050656</td>\n",
       "      <td>-0.061757</td>\n",
       "    </tr>\n",
       "    <tr>\n",
       "      <th>total sulfur dioxide</th>\n",
       "      <td>-0.113181</td>\n",
       "      <td>0.076470</td>\n",
       "      <td>0.035533</td>\n",
       "      <td>0.203028</td>\n",
       "      <td>0.047400</td>\n",
       "      <td>0.667666</td>\n",
       "      <td>1.000000</td>\n",
       "      <td>0.071269</td>\n",
       "      <td>-0.066495</td>\n",
       "      <td>0.042947</td>\n",
       "      <td>-0.205654</td>\n",
       "      <td>-0.185100</td>\n",
       "      <td>-0.231963</td>\n",
       "    </tr>\n",
       "    <tr>\n",
       "      <th>density</th>\n",
       "      <td>0.668047</td>\n",
       "      <td>0.022026</td>\n",
       "      <td>0.364947</td>\n",
       "      <td>0.355283</td>\n",
       "      <td>0.200632</td>\n",
       "      <td>-0.021946</td>\n",
       "      <td>0.071269</td>\n",
       "      <td>1.000000</td>\n",
       "      <td>-0.341699</td>\n",
       "      <td>0.148506</td>\n",
       "      <td>-0.496180</td>\n",
       "      <td>-0.174919</td>\n",
       "      <td>-0.159110</td>\n",
       "    </tr>\n",
       "    <tr>\n",
       "      <th>pH</th>\n",
       "      <td>-0.682978</td>\n",
       "      <td>0.234937</td>\n",
       "      <td>-0.541904</td>\n",
       "      <td>-0.085652</td>\n",
       "      <td>-0.265026</td>\n",
       "      <td>0.070377</td>\n",
       "      <td>-0.066495</td>\n",
       "      <td>-0.341699</td>\n",
       "      <td>1.000000</td>\n",
       "      <td>-0.196648</td>\n",
       "      <td>0.205633</td>\n",
       "      <td>-0.057731</td>\n",
       "      <td>-0.003264</td>\n",
       "    </tr>\n",
       "    <tr>\n",
       "      <th>sulphates</th>\n",
       "      <td>0.183006</td>\n",
       "      <td>-0.260987</td>\n",
       "      <td>0.312770</td>\n",
       "      <td>0.005527</td>\n",
       "      <td>0.371260</td>\n",
       "      <td>0.051658</td>\n",
       "      <td>0.042947</td>\n",
       "      <td>0.148506</td>\n",
       "      <td>-0.196648</td>\n",
       "      <td>1.000000</td>\n",
       "      <td>0.093595</td>\n",
       "      <td>0.251397</td>\n",
       "      <td>0.218072</td>\n",
       "    </tr>\n",
       "    <tr>\n",
       "      <th>alcohol</th>\n",
       "      <td>-0.061668</td>\n",
       "      <td>-0.202288</td>\n",
       "      <td>0.109903</td>\n",
       "      <td>0.042075</td>\n",
       "      <td>-0.221141</td>\n",
       "      <td>-0.069408</td>\n",
       "      <td>-0.205654</td>\n",
       "      <td>-0.496180</td>\n",
       "      <td>0.205633</td>\n",
       "      <td>0.093595</td>\n",
       "      <td>1.000000</td>\n",
       "      <td>0.476166</td>\n",
       "      <td>0.434751</td>\n",
       "    </tr>\n",
       "    <tr>\n",
       "      <th>quality</th>\n",
       "      <td>0.124052</td>\n",
       "      <td>-0.390558</td>\n",
       "      <td>0.226373</td>\n",
       "      <td>0.013732</td>\n",
       "      <td>-0.128907</td>\n",
       "      <td>-0.050656</td>\n",
       "      <td>-0.185100</td>\n",
       "      <td>-0.174919</td>\n",
       "      <td>-0.057731</td>\n",
       "      <td>0.251397</td>\n",
       "      <td>0.476166</td>\n",
       "      <td>1.000000</td>\n",
       "      <td>0.848279</td>\n",
       "    </tr>\n",
       "    <tr>\n",
       "      <th>newquality</th>\n",
       "      <td>0.095093</td>\n",
       "      <td>-0.321441</td>\n",
       "      <td>0.159129</td>\n",
       "      <td>-0.002160</td>\n",
       "      <td>-0.109494</td>\n",
       "      <td>-0.061757</td>\n",
       "      <td>-0.231963</td>\n",
       "      <td>-0.159110</td>\n",
       "      <td>-0.003264</td>\n",
       "      <td>0.218072</td>\n",
       "      <td>0.434751</td>\n",
       "      <td>0.848279</td>\n",
       "      <td>1.000000</td>\n",
       "    </tr>\n",
       "  </tbody>\n",
       "</table>\n",
       "</div>"
      ],
      "text/plain": [
       "                      fixed acidity  volatile acidity  citric acid  \\\n",
       "fixed acidity              1.000000         -0.256131     0.671703   \n",
       "volatile acidity          -0.256131          1.000000    -0.552496   \n",
       "citric acid                0.671703         -0.552496     1.000000   \n",
       "residual sugar             0.114777          0.001918     0.143577   \n",
       "chlorides                  0.093705          0.061298     0.203823   \n",
       "free sulfur dioxide       -0.153794         -0.010504    -0.060978   \n",
       "total sulfur dioxide      -0.113181          0.076470     0.035533   \n",
       "density                    0.668047          0.022026     0.364947   \n",
       "pH                        -0.682978          0.234937    -0.541904   \n",
       "sulphates                  0.183006         -0.260987     0.312770   \n",
       "alcohol                   -0.061668         -0.202288     0.109903   \n",
       "quality                    0.124052         -0.390558     0.226373   \n",
       "newquality                 0.095093         -0.321441     0.159129   \n",
       "\n",
       "                      residual sugar  chlorides  free sulfur dioxide  \\\n",
       "fixed acidity               0.114777   0.093705            -0.153794   \n",
       "volatile acidity            0.001918   0.061298            -0.010504   \n",
       "citric acid                 0.143577   0.203823            -0.060978   \n",
       "residual sugar              1.000000   0.055610             0.187049   \n",
       "chlorides                   0.055610   1.000000             0.005562   \n",
       "free sulfur dioxide         0.187049   0.005562             1.000000   \n",
       "total sulfur dioxide        0.203028   0.047400             0.667666   \n",
       "density                     0.355283   0.200632            -0.021946   \n",
       "pH                         -0.085652  -0.265026             0.070377   \n",
       "sulphates                   0.005527   0.371260             0.051658   \n",
       "alcohol                     0.042075  -0.221141            -0.069408   \n",
       "quality                     0.013732  -0.128907            -0.050656   \n",
       "newquality                 -0.002160  -0.109494            -0.061757   \n",
       "\n",
       "                      total sulfur dioxide   density        pH  sulphates  \\\n",
       "fixed acidity                    -0.113181  0.668047 -0.682978   0.183006   \n",
       "volatile acidity                  0.076470  0.022026  0.234937  -0.260987   \n",
       "citric acid                       0.035533  0.364947 -0.541904   0.312770   \n",
       "residual sugar                    0.203028  0.355283 -0.085652   0.005527   \n",
       "chlorides                         0.047400  0.200632 -0.265026   0.371260   \n",
       "free sulfur dioxide               0.667666 -0.021946  0.070377   0.051658   \n",
       "total sulfur dioxide              1.000000  0.071269 -0.066495   0.042947   \n",
       "density                           0.071269  1.000000 -0.341699   0.148506   \n",
       "pH                               -0.066495 -0.341699  1.000000  -0.196648   \n",
       "sulphates                         0.042947  0.148506 -0.196648   1.000000   \n",
       "alcohol                          -0.205654 -0.496180  0.205633   0.093595   \n",
       "quality                          -0.185100 -0.174919 -0.057731   0.251397   \n",
       "newquality                       -0.231963 -0.159110 -0.003264   0.218072   \n",
       "\n",
       "                       alcohol   quality  newquality  \n",
       "fixed acidity        -0.061668  0.124052    0.095093  \n",
       "volatile acidity     -0.202288 -0.390558   -0.321441  \n",
       "citric acid           0.109903  0.226373    0.159129  \n",
       "residual sugar        0.042075  0.013732   -0.002160  \n",
       "chlorides            -0.221141 -0.128907   -0.109494  \n",
       "free sulfur dioxide  -0.069408 -0.050656   -0.061757  \n",
       "total sulfur dioxide -0.205654 -0.185100   -0.231963  \n",
       "density              -0.496180 -0.174919   -0.159110  \n",
       "pH                    0.205633 -0.057731   -0.003264  \n",
       "sulphates             0.093595  0.251397    0.218072  \n",
       "alcohol               1.000000  0.476166    0.434751  \n",
       "quality               0.476166  1.000000    0.848279  \n",
       "newquality            0.434751  0.848279    1.000000  "
      ]
     },
     "execution_count": 20,
     "metadata": {},
     "output_type": "execute_result"
    }
   ],
   "source": [
    "data.corr()"
   ]
  },
  {
   "cell_type": "markdown",
   "id": "8947defc",
   "metadata": {},
   "source": [
    "Ques 1 : Your friend argues that in red wine, pH has no impact on the quality of the wine. You say that is not true, who is right? Justify your answer. Ans : Here we can again see that the quality of wine is negatively dependent on the pH with a correlation coefficient of -0.057731. So in this case my friend was wrong and I am right.Morever positively related features : fixed acidity,citric acid,residual sugar,sulphates,alcohol.Among which the strongest feature is \"alcohol\" as it has the highest value.(excluding new quality)\n",
    "\n",
    "We can also see that almost all points that we see are important for the analysis\n",
    "\n",
    "Now taking white wine into considering Ques 2 :You both agree that \"residual sugar\" of white wine will be related to the \"pH\" of the wine. How true is this? Justify your answer."
   ]
  },
  {
   "cell_type": "code",
   "execution_count": 21,
   "id": "0aa027be",
   "metadata": {},
   "outputs": [
    {
     "data": {
      "text/html": [
       "<div>\n",
       "<style scoped>\n",
       "    .dataframe tbody tr th:only-of-type {\n",
       "        vertical-align: middle;\n",
       "    }\n",
       "\n",
       "    .dataframe tbody tr th {\n",
       "        vertical-align: top;\n",
       "    }\n",
       "\n",
       "    .dataframe thead th {\n",
       "        text-align: right;\n",
       "    }\n",
       "</style>\n",
       "<table border=\"1\" class=\"dataframe\">\n",
       "  <thead>\n",
       "    <tr style=\"text-align: right;\">\n",
       "      <th></th>\n",
       "      <th>fixed acidity</th>\n",
       "      <th>volatile acidity</th>\n",
       "      <th>citric acid</th>\n",
       "      <th>residual sugar</th>\n",
       "      <th>chlorides</th>\n",
       "      <th>free sulfur dioxide</th>\n",
       "      <th>total sulfur dioxide</th>\n",
       "      <th>density</th>\n",
       "      <th>pH</th>\n",
       "      <th>sulphates</th>\n",
       "      <th>alcohol</th>\n",
       "      <th>quality</th>\n",
       "    </tr>\n",
       "  </thead>\n",
       "  <tbody>\n",
       "    <tr>\n",
       "      <th>0</th>\n",
       "      <td>7.0</td>\n",
       "      <td>0.27</td>\n",
       "      <td>0.36</td>\n",
       "      <td>20.7</td>\n",
       "      <td>0.045</td>\n",
       "      <td>45.0</td>\n",
       "      <td>170.0</td>\n",
       "      <td>1.0010</td>\n",
       "      <td>3.00</td>\n",
       "      <td>0.45</td>\n",
       "      <td>8.8</td>\n",
       "      <td>6</td>\n",
       "    </tr>\n",
       "    <tr>\n",
       "      <th>1</th>\n",
       "      <td>6.3</td>\n",
       "      <td>0.30</td>\n",
       "      <td>0.34</td>\n",
       "      <td>1.6</td>\n",
       "      <td>0.049</td>\n",
       "      <td>14.0</td>\n",
       "      <td>132.0</td>\n",
       "      <td>0.9940</td>\n",
       "      <td>3.30</td>\n",
       "      <td>0.49</td>\n",
       "      <td>9.5</td>\n",
       "      <td>6</td>\n",
       "    </tr>\n",
       "    <tr>\n",
       "      <th>2</th>\n",
       "      <td>8.1</td>\n",
       "      <td>0.28</td>\n",
       "      <td>0.40</td>\n",
       "      <td>6.9</td>\n",
       "      <td>0.050</td>\n",
       "      <td>30.0</td>\n",
       "      <td>97.0</td>\n",
       "      <td>0.9951</td>\n",
       "      <td>3.26</td>\n",
       "      <td>0.44</td>\n",
       "      <td>10.1</td>\n",
       "      <td>6</td>\n",
       "    </tr>\n",
       "    <tr>\n",
       "      <th>3</th>\n",
       "      <td>7.2</td>\n",
       "      <td>0.23</td>\n",
       "      <td>0.32</td>\n",
       "      <td>8.5</td>\n",
       "      <td>0.058</td>\n",
       "      <td>47.0</td>\n",
       "      <td>186.0</td>\n",
       "      <td>0.9956</td>\n",
       "      <td>3.19</td>\n",
       "      <td>0.40</td>\n",
       "      <td>9.9</td>\n",
       "      <td>6</td>\n",
       "    </tr>\n",
       "    <tr>\n",
       "      <th>4</th>\n",
       "      <td>7.2</td>\n",
       "      <td>0.23</td>\n",
       "      <td>0.32</td>\n",
       "      <td>8.5</td>\n",
       "      <td>0.058</td>\n",
       "      <td>47.0</td>\n",
       "      <td>186.0</td>\n",
       "      <td>0.9956</td>\n",
       "      <td>3.19</td>\n",
       "      <td>0.40</td>\n",
       "      <td>9.9</td>\n",
       "      <td>6</td>\n",
       "    </tr>\n",
       "  </tbody>\n",
       "</table>\n",
       "</div>"
      ],
      "text/plain": [
       "   fixed acidity  volatile acidity  citric acid  residual sugar  chlorides  \\\n",
       "0            7.0              0.27         0.36            20.7      0.045   \n",
       "1            6.3              0.30         0.34             1.6      0.049   \n",
       "2            8.1              0.28         0.40             6.9      0.050   \n",
       "3            7.2              0.23         0.32             8.5      0.058   \n",
       "4            7.2              0.23         0.32             8.5      0.058   \n",
       "\n",
       "   free sulfur dioxide  total sulfur dioxide  density    pH  sulphates  \\\n",
       "0                 45.0                 170.0   1.0010  3.00       0.45   \n",
       "1                 14.0                 132.0   0.9940  3.30       0.49   \n",
       "2                 30.0                  97.0   0.9951  3.26       0.44   \n",
       "3                 47.0                 186.0   0.9956  3.19       0.40   \n",
       "4                 47.0                 186.0   0.9956  3.19       0.40   \n",
       "\n",
       "   alcohol  quality  \n",
       "0      8.8        6  \n",
       "1      9.5        6  \n",
       "2     10.1        6  \n",
       "3      9.9        6  \n",
       "4      9.9        6  "
      ]
     },
     "execution_count": 21,
     "metadata": {},
     "output_type": "execute_result"
    }
   ],
   "source": [
    "data1.head()"
   ]
  },
  {
   "cell_type": "code",
   "execution_count": 22,
   "id": "57c763c3",
   "metadata": {},
   "outputs": [
    {
     "data": {
      "text/plain": [
       "<AxesSubplot:>"
      ]
     },
     "execution_count": 22,
     "metadata": {},
     "output_type": "execute_result"
    },
    {
     "data": {
      "image/png": "[encoded data removed]",
      "text/plain": [
       "<Figure size 432x288 with 2 Axes>"
      ]
     },
     "metadata": {
      "needs_background": "light"
     },
     "output_type": "display_data"
    }
   ],
   "source": [
    "sns.heatmap(data.corr())"
   ]
  },
  {
   "cell_type": "code",
   "execution_count": 23,
   "id": "672cc21f",
   "metadata": {},
   "outputs": [
    {
     "data": {
      "text/html": [
       "<div>\n",
       "<style scoped>\n",
       "    .dataframe tbody tr th:only-of-type {\n",
       "        vertical-align: middle;\n",
       "    }\n",
       "\n",
       "    .dataframe tbody tr th {\n",
       "        vertical-align: top;\n",
       "    }\n",
       "\n",
       "    .dataframe thead th {\n",
       "        text-align: right;\n",
       "    }\n",
       "</style>\n",
       "<table border=\"1\" class=\"dataframe\">\n",
       "  <thead>\n",
       "    <tr style=\"text-align: right;\">\n",
       "      <th></th>\n",
       "      <th>fixed acidity</th>\n",
       "      <th>volatile acidity</th>\n",
       "      <th>citric acid</th>\n",
       "      <th>residual sugar</th>\n",
       "      <th>chlorides</th>\n",
       "      <th>free sulfur dioxide</th>\n",
       "      <th>total sulfur dioxide</th>\n",
       "      <th>density</th>\n",
       "      <th>pH</th>\n",
       "      <th>sulphates</th>\n",
       "      <th>alcohol</th>\n",
       "      <th>quality</th>\n",
       "    </tr>\n",
       "  </thead>\n",
       "  <tbody>\n",
       "    <tr>\n",
       "      <th>fixed acidity</th>\n",
       "      <td>1.000000</td>\n",
       "      <td>-0.022697</td>\n",
       "      <td>0.289181</td>\n",
       "      <td>0.089021</td>\n",
       "      <td>0.023086</td>\n",
       "      <td>-0.049396</td>\n",
       "      <td>0.091070</td>\n",
       "      <td>0.265331</td>\n",
       "      <td>-0.425858</td>\n",
       "      <td>-0.017143</td>\n",
       "      <td>-0.120881</td>\n",
       "      <td>-0.113663</td>\n",
       "    </tr>\n",
       "    <tr>\n",
       "      <th>volatile acidity</th>\n",
       "      <td>-0.022697</td>\n",
       "      <td>1.000000</td>\n",
       "      <td>-0.149472</td>\n",
       "      <td>0.064286</td>\n",
       "      <td>0.070512</td>\n",
       "      <td>-0.097012</td>\n",
       "      <td>0.089261</td>\n",
       "      <td>0.027114</td>\n",
       "      <td>-0.031915</td>\n",
       "      <td>-0.035728</td>\n",
       "      <td>0.067718</td>\n",
       "      <td>-0.194723</td>\n",
       "    </tr>\n",
       "    <tr>\n",
       "      <th>citric acid</th>\n",
       "      <td>0.289181</td>\n",
       "      <td>-0.149472</td>\n",
       "      <td>1.000000</td>\n",
       "      <td>0.094212</td>\n",
       "      <td>0.114364</td>\n",
       "      <td>0.094077</td>\n",
       "      <td>0.121131</td>\n",
       "      <td>0.149503</td>\n",
       "      <td>-0.163748</td>\n",
       "      <td>0.062331</td>\n",
       "      <td>-0.075729</td>\n",
       "      <td>-0.009209</td>\n",
       "    </tr>\n",
       "    <tr>\n",
       "      <th>residual sugar</th>\n",
       "      <td>0.089021</td>\n",
       "      <td>0.064286</td>\n",
       "      <td>0.094212</td>\n",
       "      <td>1.000000</td>\n",
       "      <td>0.088685</td>\n",
       "      <td>0.299098</td>\n",
       "      <td>0.401439</td>\n",
       "      <td>0.838966</td>\n",
       "      <td>-0.194133</td>\n",
       "      <td>-0.026664</td>\n",
       "      <td>-0.450631</td>\n",
       "      <td>-0.097577</td>\n",
       "    </tr>\n",
       "    <tr>\n",
       "      <th>chlorides</th>\n",
       "      <td>0.023086</td>\n",
       "      <td>0.070512</td>\n",
       "      <td>0.114364</td>\n",
       "      <td>0.088685</td>\n",
       "      <td>1.000000</td>\n",
       "      <td>0.101392</td>\n",
       "      <td>0.198910</td>\n",
       "      <td>0.257211</td>\n",
       "      <td>-0.090439</td>\n",
       "      <td>0.016763</td>\n",
       "      <td>-0.360189</td>\n",
       "      <td>-0.209934</td>\n",
       "    </tr>\n",
       "    <tr>\n",
       "      <th>free sulfur dioxide</th>\n",
       "      <td>-0.049396</td>\n",
       "      <td>-0.097012</td>\n",
       "      <td>0.094077</td>\n",
       "      <td>0.299098</td>\n",
       "      <td>0.101392</td>\n",
       "      <td>1.000000</td>\n",
       "      <td>0.615501</td>\n",
       "      <td>0.294210</td>\n",
       "      <td>-0.000618</td>\n",
       "      <td>0.059217</td>\n",
       "      <td>-0.250104</td>\n",
       "      <td>0.008158</td>\n",
       "    </tr>\n",
       "    <tr>\n",
       "      <th>total sulfur dioxide</th>\n",
       "      <td>0.091070</td>\n",
       "      <td>0.089261</td>\n",
       "      <td>0.121131</td>\n",
       "      <td>0.401439</td>\n",
       "      <td>0.198910</td>\n",
       "      <td>0.615501</td>\n",
       "      <td>1.000000</td>\n",
       "      <td>0.529881</td>\n",
       "      <td>0.002321</td>\n",
       "      <td>0.134562</td>\n",
       "      <td>-0.448892</td>\n",
       "      <td>-0.174737</td>\n",
       "    </tr>\n",
       "    <tr>\n",
       "      <th>density</th>\n",
       "      <td>0.265331</td>\n",
       "      <td>0.027114</td>\n",
       "      <td>0.149503</td>\n",
       "      <td>0.838966</td>\n",
       "      <td>0.257211</td>\n",
       "      <td>0.294210</td>\n",
       "      <td>0.529881</td>\n",
       "      <td>1.000000</td>\n",
       "      <td>-0.093591</td>\n",
       "      <td>0.074493</td>\n",
       "      <td>-0.780138</td>\n",
       "      <td>-0.307123</td>\n",
       "    </tr>\n",
       "    <tr>\n",
       "      <th>pH</th>\n",
       "      <td>-0.425858</td>\n",
       "      <td>-0.031915</td>\n",
       "      <td>-0.163748</td>\n",
       "      <td>-0.194133</td>\n",
       "      <td>-0.090439</td>\n",
       "      <td>-0.000618</td>\n",
       "      <td>0.002321</td>\n",
       "      <td>-0.093591</td>\n",
       "      <td>1.000000</td>\n",
       "      <td>0.155951</td>\n",
       "      <td>0.121432</td>\n",
       "      <td>0.099427</td>\n",
       "    </tr>\n",
       "    <tr>\n",
       "      <th>sulphates</th>\n",
       "      <td>-0.017143</td>\n",
       "      <td>-0.035728</td>\n",
       "      <td>0.062331</td>\n",
       "      <td>-0.026664</td>\n",
       "      <td>0.016763</td>\n",
       "      <td>0.059217</td>\n",
       "      <td>0.134562</td>\n",
       "      <td>0.074493</td>\n",
       "      <td>0.155951</td>\n",
       "      <td>1.000000</td>\n",
       "      <td>-0.017433</td>\n",
       "      <td>0.053678</td>\n",
       "    </tr>\n",
       "    <tr>\n",
       "      <th>alcohol</th>\n",
       "      <td>-0.120881</td>\n",
       "      <td>0.067718</td>\n",
       "      <td>-0.075729</td>\n",
       "      <td>-0.450631</td>\n",
       "      <td>-0.360189</td>\n",
       "      <td>-0.250104</td>\n",
       "      <td>-0.448892</td>\n",
       "      <td>-0.780138</td>\n",
       "      <td>0.121432</td>\n",
       "      <td>-0.017433</td>\n",
       "      <td>1.000000</td>\n",
       "      <td>0.435575</td>\n",
       "    </tr>\n",
       "    <tr>\n",
       "      <th>quality</th>\n",
       "      <td>-0.113663</td>\n",
       "      <td>-0.194723</td>\n",
       "      <td>-0.009209</td>\n",
       "      <td>-0.097577</td>\n",
       "      <td>-0.209934</td>\n",
       "      <td>0.008158</td>\n",
       "      <td>-0.174737</td>\n",
       "      <td>-0.307123</td>\n",
       "      <td>0.099427</td>\n",
       "      <td>0.053678</td>\n",
       "      <td>0.435575</td>\n",
       "      <td>1.000000</td>\n",
       "    </tr>\n",
       "  </tbody>\n",
       "</table>\n",
       "</div>"
      ],
      "text/plain": [
       "                      fixed acidity  volatile acidity  citric acid  \\\n",
       "fixed acidity              1.000000         -0.022697     0.289181   \n",
       "volatile acidity          -0.022697          1.000000    -0.149472   \n",
       "citric acid                0.289181         -0.149472     1.000000   \n",
       "residual sugar             0.089021          0.064286     0.094212   \n",
       "chlorides                  0.023086          0.070512     0.114364   \n",
       "free sulfur dioxide       -0.049396         -0.097012     0.094077   \n",
       "total sulfur dioxide       0.091070          0.089261     0.121131   \n",
       "density                    0.265331          0.027114     0.149503   \n",
       "pH                        -0.425858         -0.031915    -0.163748   \n",
       "sulphates                 -0.017143         -0.035728     0.062331   \n",
       "alcohol                   -0.120881          0.067718    -0.075729   \n",
       "quality                   -0.113663         -0.194723    -0.009209   \n",
       "\n",
       "                      residual sugar  chlorides  free sulfur dioxide  \\\n",
       "fixed acidity               0.089021   0.023086            -0.049396   \n",
       "volatile acidity            0.064286   0.070512            -0.097012   \n",
       "citric acid                 0.094212   0.114364             0.094077   \n",
       "residual sugar              1.000000   0.088685             0.299098   \n",
       "chlorides                   0.088685   1.000000             0.101392   \n",
       "free sulfur dioxide         0.299098   0.101392             1.000000   \n",
       "total sulfur dioxide        0.401439   0.198910             0.615501   \n",
       "density                     0.838966   0.257211             0.294210   \n",
       "pH                         -0.194133  -0.090439            -0.000618   \n",
       "sulphates                  -0.026664   0.016763             0.059217   \n",
       "alcohol                    -0.450631  -0.360189            -0.250104   \n",
       "quality                    -0.097577  -0.209934             0.008158   \n",
       "\n",
       "                      total sulfur dioxide   density        pH  sulphates  \\\n",
       "fixed acidity                     0.091070  0.265331 -0.425858  -0.017143   \n",
       "volatile acidity                  0.089261  0.027114 -0.031915  -0.035728   \n",
       "citric acid                       0.121131  0.149503 -0.163748   0.062331   \n",
       "residual sugar                    0.401439  0.838966 -0.194133  -0.026664   \n",
       "chlorides                         0.198910  0.257211 -0.090439   0.016763   \n",
       "free sulfur dioxide               0.615501  0.294210 -0.000618   0.059217   \n",
       "total sulfur dioxide              1.000000  0.529881  0.002321   0.134562   \n",
       "density                           0.529881  1.000000 -0.093591   0.074493   \n",
       "pH                                0.002321 -0.093591  1.000000   0.155951   \n",
       "sulphates                         0.134562  0.074493  0.155951   1.000000   \n",
       "alcohol                          -0.448892 -0.780138  0.121432  -0.017433   \n",
       "quality                          -0.174737 -0.307123  0.099427   0.053678   \n",
       "\n",
       "                       alcohol   quality  \n",
       "fixed acidity        -0.120881 -0.113663  \n",
       "volatile acidity      0.067718 -0.194723  \n",
       "citric acid          -0.075729 -0.009209  \n",
       "residual sugar       -0.450631 -0.097577  \n",
       "chlorides            -0.360189 -0.209934  \n",
       "free sulfur dioxide  -0.250104  0.008158  \n",
       "total sulfur dioxide -0.448892 -0.174737  \n",
       "density              -0.780138 -0.307123  \n",
       "pH                    0.121432  0.099427  \n",
       "sulphates            -0.017433  0.053678  \n",
       "alcohol               1.000000  0.435575  \n",
       "quality               0.435575  1.000000  "
      ]
     },
     "execution_count": 23,
     "metadata": {},
     "output_type": "execute_result"
    }
   ],
   "source": [
    "data1.corr()"
   ]
  },
  {
   "cell_type": "markdown",
   "id": "0ffa21e2",
   "metadata": {},
   "source": [
    "Ans : We can clearly see that \"residual sugar\" is negatively related to \"pH\" of white wine(-0.194133). But much more relatable are density(0.838966) and alcohol(-0.450631).\n",
    "\n",
    "building the model"
   ]
  },
  {
   "cell_type": "code",
   "execution_count": 24,
   "id": "028d81ad",
   "metadata": {},
   "outputs": [],
   "source": [
    "X=data.drop(['quality','newquality'],axis=1)\n",
    "Y=data['newquality']"
   ]
  },
  {
   "cell_type": "code",
   "execution_count": 25,
   "id": "2ed4fd1b",
   "metadata": {},
   "outputs": [
    {
     "data": {
      "text/html": [
       "<div>\n",
       "<style scoped>\n",
       "    .dataframe tbody tr th:only-of-type {\n",
       "        vertical-align: middle;\n",
       "    }\n",
       "\n",
       "    .dataframe tbody tr th {\n",
       "        vertical-align: top;\n",
       "    }\n",
       "\n",
       "    .dataframe thead th {\n",
       "        text-align: right;\n",
       "    }\n",
       "</style>\n",
       "<table border=\"1\" class=\"dataframe\">\n",
       "  <thead>\n",
       "    <tr style=\"text-align: right;\">\n",
       "      <th></th>\n",
       "      <th>fixed acidity</th>\n",
       "      <th>volatile acidity</th>\n",
       "      <th>citric acid</th>\n",
       "      <th>residual sugar</th>\n",
       "      <th>chlorides</th>\n",
       "      <th>free sulfur dioxide</th>\n",
       "      <th>total sulfur dioxide</th>\n",
       "      <th>density</th>\n",
       "      <th>pH</th>\n",
       "      <th>sulphates</th>\n",
       "      <th>alcohol</th>\n",
       "    </tr>\n",
       "  </thead>\n",
       "  <tbody>\n",
       "    <tr>\n",
       "      <th>0</th>\n",
       "      <td>7.4</td>\n",
       "      <td>0.70</td>\n",
       "      <td>0.00</td>\n",
       "      <td>1.9</td>\n",
       "      <td>0.076</td>\n",
       "      <td>11.0</td>\n",
       "      <td>34.0</td>\n",
       "      <td>0.9978</td>\n",
       "      <td>3.51</td>\n",
       "      <td>0.56</td>\n",
       "      <td>9.4</td>\n",
       "    </tr>\n",
       "    <tr>\n",
       "      <th>1</th>\n",
       "      <td>7.8</td>\n",
       "      <td>0.88</td>\n",
       "      <td>0.00</td>\n",
       "      <td>2.6</td>\n",
       "      <td>0.098</td>\n",
       "      <td>25.0</td>\n",
       "      <td>67.0</td>\n",
       "      <td>0.9968</td>\n",
       "      <td>3.20</td>\n",
       "      <td>0.68</td>\n",
       "      <td>9.8</td>\n",
       "    </tr>\n",
       "    <tr>\n",
       "      <th>2</th>\n",
       "      <td>7.8</td>\n",
       "      <td>0.76</td>\n",
       "      <td>0.04</td>\n",
       "      <td>2.3</td>\n",
       "      <td>0.092</td>\n",
       "      <td>15.0</td>\n",
       "      <td>54.0</td>\n",
       "      <td>0.9970</td>\n",
       "      <td>3.26</td>\n",
       "      <td>0.65</td>\n",
       "      <td>9.8</td>\n",
       "    </tr>\n",
       "    <tr>\n",
       "      <th>3</th>\n",
       "      <td>11.2</td>\n",
       "      <td>0.28</td>\n",
       "      <td>0.56</td>\n",
       "      <td>1.9</td>\n",
       "      <td>0.075</td>\n",
       "      <td>17.0</td>\n",
       "      <td>60.0</td>\n",
       "      <td>0.9980</td>\n",
       "      <td>3.16</td>\n",
       "      <td>0.58</td>\n",
       "      <td>9.8</td>\n",
       "    </tr>\n",
       "    <tr>\n",
       "      <th>4</th>\n",
       "      <td>7.4</td>\n",
       "      <td>0.70</td>\n",
       "      <td>0.00</td>\n",
       "      <td>1.9</td>\n",
       "      <td>0.076</td>\n",
       "      <td>11.0</td>\n",
       "      <td>34.0</td>\n",
       "      <td>0.9978</td>\n",
       "      <td>3.51</td>\n",
       "      <td>0.56</td>\n",
       "      <td>9.4</td>\n",
       "    </tr>\n",
       "  </tbody>\n",
       "</table>\n",
       "</div>"
      ],
      "text/plain": [
       "   fixed acidity  volatile acidity  citric acid  residual sugar  chlorides  \\\n",
       "0            7.4              0.70         0.00             1.9      0.076   \n",
       "1            7.8              0.88         0.00             2.6      0.098   \n",
       "2            7.8              0.76         0.04             2.3      0.092   \n",
       "3           11.2              0.28         0.56             1.9      0.075   \n",
       "4            7.4              0.70         0.00             1.9      0.076   \n",
       "\n",
       "   free sulfur dioxide  total sulfur dioxide  density    pH  sulphates  \\\n",
       "0                 11.0                  34.0   0.9978  3.51       0.56   \n",
       "1                 25.0                  67.0   0.9968  3.20       0.68   \n",
       "2                 15.0                  54.0   0.9970  3.26       0.65   \n",
       "3                 17.0                  60.0   0.9980  3.16       0.58   \n",
       "4                 11.0                  34.0   0.9978  3.51       0.56   \n",
       "\n",
       "   alcohol  \n",
       "0      9.4  \n",
       "1      9.8  \n",
       "2      9.8  \n",
       "3      9.8  \n",
       "4      9.4  "
      ]
     },
     "execution_count": 25,
     "metadata": {},
     "output_type": "execute_result"
    }
   ],
   "source": [
    "X.head()"
   ]
  },
  {
   "cell_type": "code",
   "execution_count": 26,
   "id": "521e7a0b",
   "metadata": {},
   "outputs": [
    {
     "data": {
      "text/plain": [
       "0    1\n",
       "1    1\n",
       "2    1\n",
       "3    2\n",
       "4    1\n",
       "Name: newquality, dtype: int64"
      ]
     },
     "execution_count": 26,
     "metadata": {},
     "output_type": "execute_result"
    }
   ],
   "source": [
    "Y.head()"
   ]
  },
  {
   "cell_type": "markdown",
   "id": "543b7bb5",
   "metadata": {},
   "source": [
    "we can dividw the red wine dataset into train and test sets"
   ]
  },
  {
   "cell_type": "code",
   "execution_count": 27,
   "id": "6c6b1c9a",
   "metadata": {},
   "outputs": [],
   "source": [
    "from sklearn.model_selection import train_test_split\n",
    "x_train1,x_test,y_train1,y_test=train_test_split(X,Y,test_size=0.20,random_state=1234)"
   ]
  },
  {
   "cell_type": "markdown",
   "id": "a8bec583",
   "metadata": {},
   "source": [
    "using smote technique to oversample the data"
   ]
  },
  {
   "cell_type": "code",
   "execution_count": 28,
   "id": "b09979bc",
   "metadata": {},
   "outputs": [
    {
     "name": "stdout",
     "output_type": "stream",
     "text": [
      "Collecting imblearn\n",
      "  Downloading imblearn-0.0-py2.py3-none-any.whl (1.9 kB)\n",
      "Collecting imbalanced-learn\n",
      "  Downloading imbalanced_learn-0.8.1-py3-none-any.whl (189 kB)\n",
      "Requirement already satisfied: scikit-learn>=0.24 in c:\\users\\91730\\anaconda3\\lib\\site-packages (from imbalanced-learn->imblearn) (0.24.1)\n",
      "Requirement already satisfied: joblib>=0.11 in c:\\users\\91730\\anaconda3\\lib\\site-packages (from imbalanced-learn->imblearn) (1.0.1)\n",
      "Requirement already satisfied: numpy>=1.13.3 in c:\\users\\91730\\anaconda3\\lib\\site-packages (from imbalanced-learn->imblearn) (1.20.1)\n",
      "Requirement already satisfied: scipy>=0.19.1 in c:\\users\\91730\\anaconda3\\lib\\site-packages (from imbalanced-learn->imblearn) (1.6.2)\n",
      "Requirement already satisfied: threadpoolctl>=2.0.0 in c:\\users\\91730\\anaconda3\\lib\\site-packages (from scikit-learn>=0.24->imbalanced-learn->imblearn) (2.1.0)\n",
      "Installing collected packages: imbalanced-learn, imblearn\n",
      "Successfully installed imbalanced-learn-0.8.1 imblearn-0.0\n"
     ]
    }
   ],
   "source": [
    "!pip install imblearn"
   ]
  },
  {
   "cell_type": "code",
   "execution_count": 29,
   "id": "180e3d2e",
   "metadata": {},
   "outputs": [
    {
     "name": "stdout",
     "output_type": "stream",
     "text": [
      "Collecting delayed\n",
      "  Downloading delayed-0.11.0b1-py2.py3-none-any.whl (19 kB)\n",
      "Collecting redis\n",
      "  Downloading redis-4.0.0-py3-none-any.whl (118 kB)\n",
      "Collecting hiredis\n",
      "  Downloading hiredis-2.0.0-cp38-cp38-win_amd64.whl (18 kB)\n",
      "Collecting deprecated\n",
      "  Downloading Deprecated-1.2.13-py2.py3-none-any.whl (9.6 kB)\n",
      "Requirement already satisfied: wrapt<2,>=1.10 in c:\\users\\91730\\anaconda3\\lib\\site-packages (from deprecated->redis->delayed) (1.12.1)\n",
      "Installing collected packages: deprecated, redis, hiredis, delayed\n",
      "Successfully installed delayed-0.11.0b1 deprecated-1.2.13 hiredis-2.0.0 redis-4.0.0\n"
     ]
    }
   ],
   "source": [
    "!pip install delayed"
   ]
  },
  {
   "cell_type": "code",
   "execution_count": 30,
   "id": "bffd2152",
   "metadata": {},
   "outputs": [],
   "source": [
    "from imblearn.over_sampling import SMOTE\n",
    "\n",
    "oversample = SMOTE()\n",
    "x_train, y_train = oversample.fit_resample(x_train1, y_train1)"
   ]
  },
  {
   "cell_type": "code",
   "execution_count": 31,
   "id": "f869b5f8",
   "metadata": {},
   "outputs": [
    {
     "name": "stderr",
     "output_type": "stream",
     "text": [
      "C:\\Users\\91730\\anaconda3\\lib\\site-packages\\seaborn\\_decorators.py:36: FutureWarning: Pass the following variable as a keyword arg: x. From version 0.12, the only valid positional argument will be `data`, and passing other arguments without an explicit keyword will result in an error or misinterpretation.\n",
      "  warnings.warn(\n"
     ]
    },
    {
     "data": {
      "text/plain": [
       "<AxesSubplot:xlabel='newquality', ylabel='count'>"
      ]
     },
     "execution_count": 31,
     "metadata": {},
     "output_type": "execute_result"
    },
    {
     "data": {
      "image/png": "[encoded data removed]",
      "text/plain": [
       "<Figure size 432x288 with 1 Axes>"
      ]
     },
     "metadata": {
      "needs_background": "light"
     },
     "output_type": "display_data"
    }
   ],
   "source": [
    "sns.countplot(y_train,palette='OrRd')"
   ]
  },
  {
   "cell_type": "markdown",
   "id": "d4f5ac81",
   "metadata": {},
   "source": [
    "both classes are equal now"
   ]
  },
  {
   "cell_type": "code",
   "execution_count": 32,
   "id": "a46cac84",
   "metadata": {},
   "outputs": [
    {
     "name": "stdout",
     "output_type": "stream",
     "text": [
      "[(1, 683), (2, 683)]\n"
     ]
    }
   ],
   "source": [
    "print(sorted(Counter(y_train).items()))"
   ]
  },
  {
   "cell_type": "code",
   "execution_count": 33,
   "id": "8b9b543e",
   "metadata": {},
   "outputs": [
    {
     "name": "stdout",
     "output_type": "stream",
     "text": [
      "Collecting xgboost\n",
      "  Downloading xgboost-1.5.0-py3-none-win_amd64.whl (106.6 MB)\n",
      "Requirement already satisfied: scipy in c:\\users\\91730\\anaconda3\\lib\\site-packages (from xgboost) (1.6.2)\n",
      "Requirement already satisfied: numpy in c:\\users\\91730\\anaconda3\\lib\\site-packages (from xgboost) (1.20.1)\n",
      "Installing collected packages: xgboost\n",
      "Successfully installed xgboost-1.5.0\n"
     ]
    }
   ],
   "source": [
    "!pip install xgboost"
   ]
  },
  {
   "cell_type": "code",
   "execution_count": 34,
   "id": "6dd4eccd",
   "metadata": {},
   "outputs": [],
   "source": [
    "from sklearn.linear_model import LogisticRegression\n",
    "from sklearn.discriminant_analysis import LinearDiscriminantAnalysis\n",
    "from sklearn.tree import DecisionTreeClassifier \n",
    "from sklearn.ensemble import RandomForestClassifier\n",
    "from sklearn.ensemble import GradientBoostingClassifier\n",
    "from xgboost import XGBClassifier\n",
    "from sklearn.ensemble import ExtraTreesClassifier\n",
    "from sklearn.ensemble import BaggingClassifier\n",
    "from sklearn.ensemble import AdaBoostClassifier\n",
    "\n",
    "#libraries for model evaluation\n",
    "from sklearn.metrics import accuracy_score\n",
    "from sklearn.metrics import plot_confusion_matrix\n",
    "from sklearn.metrics import classification_report"
   ]
  },
  {
   "cell_type": "code",
   "execution_count": 35,
   "id": "a1443608",
   "metadata": {},
   "outputs": [
    {
     "name": "stdout",
     "output_type": "stream",
     "text": [
      "train accuracy: 0.739385065885798 \n",
      " test accuracy: 0.7625\n",
      "\n",
      "\n",
      "classification report for logistic regression\n",
      "              precision    recall  f1-score   support\n",
      "\n",
      "           1       0.80      0.72      0.76       166\n",
      "           2       0.73      0.81      0.77       154\n",
      "\n",
      "    accuracy                           0.76       320\n",
      "   macro avg       0.77      0.76      0.76       320\n",
      "weighted avg       0.77      0.76      0.76       320\n",
      "\n",
      "\n",
      "\n",
      "confusion matrix for logistic regression\n"
     ]
    },
    {
     "data": {
      "image/png": "[encoded data removed]",
      "text/plain": [
       "<Figure size 432x288 with 2 Axes>"
      ]
     },
     "metadata": {
      "needs_background": "light"
     },
     "output_type": "display_data"
    }
   ],
   "source": [
    "#logistic regression\n",
    "lr = LogisticRegression(max_iter=20000,penalty='l2')\n",
    "model1=lr.fit(x_train, y_train)\n",
    "print(\"train accuracy:\",model1.score(x_train, y_train),\"\\n\",\"test accuracy:\",model1.score(x_test,y_test))\n",
    "lrpred = lr.predict(x_test)\n",
    "print(\"\\n\")\n",
    "print(\"classification report for logistic regression\")\n",
    "print(classification_report(lrpred,y_test))\n",
    "print(\"\\n\")\n",
    "print(\"confusion matrix for logistic regression\")\n",
    "displr = plot_confusion_matrix(lr, x_test, y_test,cmap=plt.cm.OrRd , values_format='d')"
   ]
  },
  {
   "cell_type": "code",
   "execution_count": 36,
   "id": "74f6dcd6",
   "metadata": {},
   "outputs": [
    {
     "name": "stdout",
     "output_type": "stream",
     "text": [
      "train accuracy: 0.7408491947291361 \n",
      " test accuracy: 0.76875\n",
      "\n",
      "\n",
      "classification report for linear discriminant analysis\n",
      "              precision    recall  f1-score   support\n",
      "\n",
      "           1       0.81      0.72      0.76       166\n",
      "           2       0.73      0.82      0.77       154\n",
      "\n",
      "    accuracy                           0.77       320\n",
      "   macro avg       0.77      0.77      0.77       320\n",
      "weighted avg       0.77      0.77      0.77       320\n",
      "\n",
      "\n",
      "\n",
      "confusion matrix for linear discriminant analysis\n"
     ]
    },
    {
     "data": {
      "image/png": "[encoded data removed]",
      "text/plain": [
       "<Figure size 432x288 with 2 Axes>"
      ]
     },
     "metadata": {
      "needs_background": "light"
     },
     "output_type": "display_data"
    }
   ],
   "source": [
    "#linear discriminant analysis\n",
    "lda = LinearDiscriminantAnalysis()\n",
    "model2=lda.fit(x_train, y_train)\n",
    "print(\"train accuracy:\",model2.score(x_train, y_train),\"\\n\",\"test accuracy:\",model2.score(x_test,y_test))\n",
    "\n",
    "ldapred = lda.predict(x_test)\n",
    "print(\"\\n\")\n",
    "print(\"classification report for linear discriminant analysis\")\n",
    "print(classification_report(ldapred,y_test))\n",
    "print(\"\\n\")\n",
    "print(\"confusion matrix for linear discriminant analysis\")\n",
    "displr = plot_confusion_matrix(lda, x_test, y_test ,cmap=plt.cm.OrRd , values_format='d')"
   ]
  },
  {
   "cell_type": "code",
   "execution_count": 37,
   "id": "719a9dcb",
   "metadata": {},
   "outputs": [
    {
     "name": "stdout",
     "output_type": "stream",
     "text": [
      "train accuracy: 1.0 \n",
      " test accuracy: 0.715625\n",
      "\n",
      "\n",
      "classification report for decision tree classifier\n",
      "              precision    recall  f1-score   support\n",
      "\n",
      "           1       0.70      0.69      0.69       149\n",
      "           2       0.73      0.74      0.73       171\n",
      "\n",
      "    accuracy                           0.72       320\n",
      "   macro avg       0.71      0.71      0.71       320\n",
      "weighted avg       0.72      0.72      0.72       320\n",
      "\n",
      "\n",
      "\n",
      "confusion matrix for decision tree classifier\n"
     ]
    },
    {
     "data": {
      "image/png": "[encoded data removed]",
      "text/plain": [
       "<Figure size 432x288 with 2 Axes>"
      ]
     },
     "metadata": {
      "needs_background": "light"
     },
     "output_type": "display_data"
    }
   ],
   "source": [
    "#decision tree classifier\n",
    "dt=DecisionTreeClassifier()\n",
    "model3=dt.fit(x_train, y_train)\n",
    "print(\"train accuracy:\",model3.score(x_train, y_train),\"\\n\",\"test accuracy:\",model3.score(x_test,y_test))\n",
    "\n",
    "dtpred = dt.predict(x_test)\n",
    "print(\"\\n\")\n",
    "print(\"classification report for decision tree classifier\")\n",
    "print(classification_report(dtpred,y_test))\n",
    "print(\"\\n\")\n",
    "print(\"confusion matrix for decision tree classifier\")\n",
    "displr = plot_confusion_matrix(dt, x_test, y_test ,cmap=plt.cm.OrRd , values_format='d')"
   ]
  },
  {
   "cell_type": "code",
   "execution_count": 38,
   "id": "3a91dd94",
   "metadata": {},
   "outputs": [
    {
     "name": "stdout",
     "output_type": "stream",
     "text": [
      "train accuracy: 1.0 \n",
      " test accuracy: 0.853125\n",
      "\n",
      "\n",
      "classification report for random forest classifier\n",
      "              precision    recall  f1-score   support\n",
      "\n",
      "           1       0.87      0.82      0.85       157\n",
      "           2       0.84      0.88      0.86       163\n",
      "\n",
      "    accuracy                           0.85       320\n",
      "   macro avg       0.85      0.85      0.85       320\n",
      "weighted avg       0.85      0.85      0.85       320\n",
      "\n",
      "\n",
      "\n",
      "confusion matrix for random forest classifier\n"
     ]
    },
    {
     "data": {
      "image/png": "[encoded data removed]",
      "text/plain": [
       "<Figure size 432x288 with 2 Axes>"
      ]
     },
     "metadata": {
      "needs_background": "light"
     },
     "output_type": "display_data"
    }
   ],
   "source": [
    "#random forest classifier\n",
    "rf=RandomForestClassifier()\n",
    "model4=rf.fit(x_train, y_train)\n",
    "print(\"train accuracy:\",model4.score(x_train, y_train),\"\\n\",\"test accuracy:\",model4.score(x_test,y_test))\n",
    "\n",
    "rfpred = rf.predict(x_test)\n",
    "print(\"\\n\")\n",
    "print(\"classification report for random forest classifier\")\n",
    "print(classification_report(rfpred,y_test))\n",
    "print(\"\\n\")\n",
    "print(\"confusion matrix for random forest classifier\")\n",
    "displr = plot_confusion_matrix(rf, x_test, y_test ,cmap=plt.cm.OrRd , values_format='d')"
   ]
  },
  {
   "cell_type": "code",
   "execution_count": 39,
   "id": "b7f944b6",
   "metadata": {},
   "outputs": [
    {
     "name": "stdout",
     "output_type": "stream",
     "text": [
      "train accuracy: 0.8726207906295754 \n",
      " test accuracy: 0.803125\n",
      "\n",
      "\n",
      "classification report for gradient boosting classifier\n",
      "              precision    recall  f1-score   support\n",
      "\n",
      "           1       0.80      0.78      0.79       153\n",
      "           2       0.80      0.83      0.81       167\n",
      "\n",
      "    accuracy                           0.80       320\n",
      "   macro avg       0.80      0.80      0.80       320\n",
      "weighted avg       0.80      0.80      0.80       320\n",
      "\n",
      "\n",
      "\n",
      "confusion matrix for gradient boosting classifier\n"
     ]
    },
    {
     "data": {
      "image/png": "[encoded data removed]",
      "text/plain": [
       "<Figure size 432x288 with 2 Axes>"
      ]
     },
     "metadata": {
      "needs_background": "light"
     },
     "output_type": "display_data"
    }
   ],
   "source": [
    "# gradient boost classifier \n",
    "gbm=GradientBoostingClassifier()\n",
    "model6=gbm.fit(x_train, y_train)\n",
    "print(\"train accuracy:\",model6.score(x_train, y_train),\"\\n\",\"test accuracy:\",model6.score(x_test,y_test))\n",
    "\n",
    "gbmpred = gbm.predict(x_test)\n",
    "print(\"\\n\")\n",
    "print(\"classification report for gradient boosting classifier\")\n",
    "print(classification_report(gbmpred,y_test))\n",
    "print(\"\\n\")\n",
    "print(\"confusion matrix for gradient boosting classifier\")\n",
    "displr = plot_confusion_matrix(gbm, x_test, y_test ,cmap=plt.cm.OrRd , values_format='d')"
   ]
  },
  {
   "cell_type": "code",
   "execution_count": 40,
   "id": "ab70ca66",
   "metadata": {},
   "outputs": [
    {
     "name": "stdout",
     "output_type": "stream",
     "text": [
      "train accuracy: 0.7825768667642753 \n",
      " test accuracy: 0.778125\n",
      "\n",
      "\n",
      "classification report for adaboost classifier\n",
      "              precision    recall  f1-score   support\n",
      "\n",
      "           1       0.80      0.74      0.77       159\n",
      "           2       0.76      0.81      0.79       161\n",
      "\n",
      "    accuracy                           0.78       320\n",
      "   macro avg       0.78      0.78      0.78       320\n",
      "weighted avg       0.78      0.78      0.78       320\n",
      "\n",
      "\n",
      "\n",
      "confusion matrix for adaboost classifier\n"
     ]
    },
    {
     "data": {
      "image/png": "[encoded data removed]",
      "text/plain": [
       "<Figure size 432x288 with 2 Axes>"
      ]
     },
     "metadata": {
      "needs_background": "light"
     },
     "output_type": "display_data"
    }
   ],
   "source": [
    "# adaboost classifier \n",
    "ada=AdaBoostClassifier()\n",
    "model7=ada.fit(x_train, y_train)\n",
    "print(\"train accuracy:\",model7.score(x_train, y_train),\"\\n\",\"test accuracy:\",model7.score(x_test,y_test))\n",
    "\n",
    "adapred = ada.predict(x_test)\n",
    "print(\"\\n\")\n",
    "print(\"classification report for adaboost classifier\")\n",
    "print(classification_report(adapred,y_test))\n",
    "print(\"\\n\")\n",
    "print(\"confusion matrix for adaboost classifier\")\n",
    "displr = plot_confusion_matrix(ada, x_test, y_test ,cmap=plt.cm.OrRd , values_format='d')"
   ]
  },
  {
   "cell_type": "code",
   "execution_count": 41,
   "id": "7a1f2d26",
   "metadata": {},
   "outputs": [
    {
     "name": "stderr",
     "output_type": "stream",
     "text": [
      "C:\\Users\\91730\\anaconda3\\lib\\site-packages\\xgboost\\sklearn.py:1224: UserWarning: The use of label encoder in XGBClassifier is deprecated and will be removed in a future release. To remove this warning, do the following: 1) Pass option use_label_encoder=False when constructing XGBClassifier object; and 2) Encode your labels (y) as integers starting with 0, i.e. 0, 1, 2, ..., [num_class - 1].\n",
      "  warnings.warn(label_encoder_deprecation_msg, UserWarning)\n"
     ]
    },
    {
     "name": "stdout",
     "output_type": "stream",
     "text": [
      "[02:31:35] WARNING: C:/Users/Administrator/workspace/xgboost-win64_release_1.5.0/src/learner.cc:1115: Starting in XGBoost 1.3.0, the default evaluation metric used with the objective 'binary:logistic' was changed from 'error' to 'logloss'. Explicitly set eval_metric if you'd like to restore the old behavior.\n",
      "train accuracy: 1.0 \n",
      " test accuracy: 0.8125\n",
      "\n",
      "\n",
      "classification report for extreme gradient boosting classifier\n",
      "              precision    recall  f1-score   support\n",
      "\n",
      "           1       0.78      0.81      0.79       144\n",
      "           2       0.84      0.82      0.83       176\n",
      "\n",
      "    accuracy                           0.81       320\n",
      "   macro avg       0.81      0.81      0.81       320\n",
      "weighted avg       0.81      0.81      0.81       320\n",
      "\n",
      "\n",
      "\n",
      "confusion matrix for extreme gradient boosting classifier\n"
     ]
    },
    {
     "data": {
      "image/png": "[encoded data removed]",
      "text/plain": [
       "<Figure size 432x288 with 2 Axes>"
      ]
     },
     "metadata": {
      "needs_background": "light"
     },
     "output_type": "display_data"
    }
   ],
   "source": [
    "# extreme gradient boost classifier\n",
    "xgb = XGBClassifier()\n",
    "model8=xgb.fit(x_train.values, y_train)\n",
    "print(\"train accuracy:\",model8.score(x_train, y_train),\"\\n\",\"test accuracy:\",model8.score(x_test,y_test))\n",
    "\n",
    "xgbpred = xgb.predict(x_test.values)\n",
    "print(\"\\n\")\n",
    "print(\"classification report for extreme gradient boosting classifier\")\n",
    "print(classification_report(xgbpred,y_test))\n",
    "print(\"\\n\")\n",
    "print(\"confusion matrix for extreme gradient boosting classifier\")\n",
    "displr = plot_confusion_matrix(xgb, x_test.values, y_test ,cmap=plt.cm.OrRd , values_format='d')"
   ]
  },
  {
   "cell_type": "code",
   "execution_count": 42,
   "id": "8e9610d4",
   "metadata": {},
   "outputs": [
    {
     "name": "stdout",
     "output_type": "stream",
     "text": [
      "train accuracy: 1.0 \n",
      " test accuracy: 0.853125\n",
      "\n",
      "\n",
      "classification report for voting classifier\n",
      "              precision    recall  f1-score   support\n",
      "\n",
      "           1       0.86      0.83      0.84       155\n",
      "           2       0.84      0.88      0.86       165\n",
      "\n",
      "    accuracy                           0.85       320\n",
      "   macro avg       0.85      0.85      0.85       320\n",
      "weighted avg       0.85      0.85      0.85       320\n",
      "\n",
      "\n",
      "\n",
      "confusion matrix for voting classifier\n"
     ]
    },
    {
     "data": {
      "image/png": "[encoded data removed]",
      "text/plain": [
       "<Figure size 432x288 with 2 Axes>"
      ]
     },
     "metadata": {
      "needs_background": "light"
     },
     "output_type": "display_data"
    }
   ],
   "source": [
    "# voting classifer\n",
    "from sklearn.ensemble import VotingClassifier\n",
    "clf1 = ExtraTreesClassifier()\n",
    "clf2 = RandomForestClassifier()\n",
    "\n",
    "vc = VotingClassifier(estimators=[('ext', clf1),('rf', clf2)], voting='soft')\n",
    "model10=vc.fit(x_train, y_train)\n",
    "print(\"train accuracy:\",model10.score(x_train, y_train),\"\\n\",\"test accuracy:\",model10.score(x_test,y_test))\n",
    "\n",
    "vcpred = vc.predict(x_test)\n",
    "print(\"\\n\")\n",
    "print(\"classification report for voting classifier\")\n",
    "print(classification_report(vcpred,y_test))\n",
    "print(\"\\n\")\n",
    "print(\"confusion matrix for voting classifier\")\n",
    "displr = plot_confusion_matrix(vc, x_test, y_test ,cmap=plt.cm.OrRd, values_format='d')"
   ]
  },
  {
   "cell_type": "code",
   "execution_count": 43,
   "id": "553e68c9",
   "metadata": {},
   "outputs": [
    {
     "name": "stdout",
     "output_type": "stream",
     "text": [
      "train accuracy: 0.9890190336749634 \n",
      " test accuracy: 0.790625\n",
      "\n",
      "\n",
      "classification report for bagging classifier\n",
      "              precision    recall  f1-score   support\n",
      "\n",
      "           1       0.79      0.76      0.78       153\n",
      "           2       0.79      0.81      0.80       167\n",
      "\n",
      "    accuracy                           0.79       320\n",
      "   macro avg       0.79      0.79      0.79       320\n",
      "weighted avg       0.79      0.79      0.79       320\n",
      "\n",
      "\n",
      "\n",
      "confusion matrix for bagging classifier\n"
     ]
    },
    {
     "data": {
      "image/png": "[encoded data removed]",
      "text/plain": [
       "<Figure size 432x288 with 2 Axes>"
      ]
     },
     "metadata": {
      "needs_background": "light"
     },
     "output_type": "display_data"
    }
   ],
   "source": [
    "#bagging classifier\n",
    "bg=BaggingClassifier()\n",
    "model5=bg.fit(x_train, y_train)\n",
    "print(\"train accuracy:\",model5.score(x_train, y_train),\"\\n\",\"test accuracy:\",model5.score(x_test,y_test))\n",
    "\n",
    "bgpred = bg.predict(x_test)\n",
    "print(\"\\n\")\n",
    "print(\"classification report for bagging classifier\")\n",
    "print(classification_report(bgpred,y_test))\n",
    "print(\"\\n\")\n",
    "print(\"confusion matrix for bagging classifier\")\n",
    "displr = plot_confusion_matrix(bg, x_test, y_test ,cmap=plt.cm.OrRd , values_format='d')"
   ]
  },
  {
   "cell_type": "code",
   "execution_count": 44,
   "id": "b3e62af8",
   "metadata": {},
   "outputs": [
    {
     "name": "stdout",
     "output_type": "stream",
     "text": [
      "train accuracy: 1.0 \n",
      " test accuracy: 0.85\n",
      "\n",
      "\n",
      "classification report for extra tree classifier\n",
      "              precision    recall  f1-score   support\n",
      "\n",
      "           1       0.84      0.83      0.84       150\n",
      "           2       0.85      0.86      0.86       170\n",
      "\n",
      "    accuracy                           0.85       320\n",
      "   macro avg       0.85      0.85      0.85       320\n",
      "weighted avg       0.85      0.85      0.85       320\n",
      "\n",
      "\n",
      "\n",
      "confusion matrix for extra tree classifier\n"
     ]
    },
    {
     "data": {
      "image/png": "[encoded data removed]",
      "text/plain": [
       "<Figure size 432x288 with 2 Axes>"
      ]
     },
     "metadata": {
      "needs_background": "light"
     },
     "output_type": "display_data"
    }
   ],
   "source": [
    "# extra tree classifier\n",
    "extree = ExtraTreesClassifier()\n",
    "model9=extree.fit(x_train, y_train)\n",
    "print(\"train accuracy:\",model9.score(x_train, y_train),\"\\n\",\"test accuracy:\",model9.score(x_test,y_test))\n",
    "\n",
    "extpred = extree.predict(x_test)\n",
    "print(\"\\n\")\n",
    "print(\"classification report for extra tree classifier\")\n",
    "print(classification_report(extpred,y_test))\n",
    "print(\"\\n\")\n",
    "print(\"confusion matrix for extra tree classifier\")\n",
    "displr = plot_confusion_matrix(extree, x_test, y_test ,cmap=plt.cm.OrRd , values_format='d')"
   ]
  },
  {
   "cell_type": "markdown",
   "id": "391d861c",
   "metadata": {},
   "source": [
    "it seems that voting classifier model gives the best accuracy 86.25% using SMOTE over samppling\n",
    "\n",
    "Now implementing the model without over sampling"
   ]
  },
  {
   "cell_type": "code",
   "execution_count": 45,
   "id": "f0809c1b",
   "metadata": {},
   "outputs": [
    {
     "name": "stdout",
     "output_type": "stream",
     "text": [
      "train accuracy: 0.7427677873338546 \n",
      " test accuracy: 0.78125\n",
      "\n",
      "\n",
      "classification report for logistic regression\n",
      "              precision    recall  f1-score   support\n",
      "\n",
      "           1       0.79      0.75      0.77       156\n",
      "           2       0.77      0.81      0.79       164\n",
      "\n",
      "    accuracy                           0.78       320\n",
      "   macro avg       0.78      0.78      0.78       320\n",
      "weighted avg       0.78      0.78      0.78       320\n",
      "\n",
      "\n",
      "\n",
      "confusion matrix for logistic regression\n"
     ]
    },
    {
     "data": {
      "image/png": "[encoded data removed]",
      "text/plain": [
       "<Figure size 432x288 with 2 Axes>"
      ]
     },
     "metadata": {
      "needs_background": "light"
     },
     "output_type": "display_data"
    }
   ],
   "source": [
    "#logistic regression without resampling\n",
    "lrw = LogisticRegression(max_iter=20000,penalty='l2')\n",
    "model12=lrw.fit(x_train1, y_train1)\n",
    "print(\"train accuracy:\",model12.score(x_train1, y_train1),\"\\n\",\"test accuracy:\",model12.score(x_test,y_test))\n",
    "lrwpred = lrw.predict(x_test)\n",
    "print(\"\\n\")\n",
    "print(\"classification report for logistic regression\")\n",
    "print(classification_report(lrwpred,y_test))\n",
    "print(\"\\n\")\n",
    "print(\"confusion matrix for logistic regression\")\n",
    "displr = plot_confusion_matrix(lrw, x_test, y_test ,cmap=plt.cm.OrRd , values_format='d')"
   ]
  },
  {
   "cell_type": "code",
   "execution_count": 46,
   "id": "99bddca2",
   "metadata": {},
   "outputs": [
    {
     "name": "stdout",
     "output_type": "stream",
     "text": [
      "train accuracy: 0.7396403440187647 \n",
      " test accuracy: 0.7875\n",
      "\n",
      "\n",
      "classification report for linear discriminant analysis\n",
      "              precision    recall  f1-score   support\n",
      "\n",
      "           1       0.80      0.76      0.78       156\n",
      "           2       0.78      0.82      0.80       164\n",
      "\n",
      "    accuracy                           0.79       320\n",
      "   macro avg       0.79      0.79      0.79       320\n",
      "weighted avg       0.79      0.79      0.79       320\n",
      "\n",
      "\n",
      "\n",
      "confusion matrix for linear discriminant analysis\n"
     ]
    },
    {
     "data": {
      "image/png": "[encoded data removed]",
      "text/plain": [
       "<Figure size 432x288 with 2 Axes>"
      ]
     },
     "metadata": {
      "needs_background": "light"
     },
     "output_type": "display_data"
    }
   ],
   "source": [
    "#linear discriminant analysis\n",
    "ldaw = LinearDiscriminantAnalysis()\n",
    "model13=ldaw.fit(x_train1, y_train1)\n",
    "print(\"train accuracy:\",model13.score(x_train1, y_train1),\"\\n\",\"test accuracy:\",model13.score(x_test,y_test))\n",
    "\n",
    "ldawpred = ldaw.predict(x_test)\n",
    "print(\"\\n\")\n",
    "print(\"classification report for linear discriminant analysis\")\n",
    "print(classification_report(ldawpred,y_test))\n",
    "print(\"\\n\")\n",
    "print(\"confusion matrix for linear discriminant analysis\")\n",
    "displr = plot_confusion_matrix(ldaw, x_test, y_test ,cmap=plt.cm.OrRd , values_format='d')"
   ]
  },
  {
   "cell_type": "code",
   "execution_count": 47,
   "id": "47cea501",
   "metadata": {},
   "outputs": [
    {
     "name": "stdout",
     "output_type": "stream",
     "text": [
      "train accuracy: 1.0 \n",
      " test accuracy: 0.74375\n",
      "\n",
      "\n",
      "classification report for decision tree classifier\n",
      "              precision    recall  f1-score   support\n",
      "\n",
      "           1       0.70      0.74      0.72       140\n",
      "           2       0.78      0.75      0.77       180\n",
      "\n",
      "    accuracy                           0.74       320\n",
      "   macro avg       0.74      0.74      0.74       320\n",
      "weighted avg       0.75      0.74      0.74       320\n",
      "\n",
      "\n",
      "\n",
      "confusion matrix for decision tree classifier\n"
     ]
    },
    {
     "data": {
      "image/png": "[encoded data removed]",
      "text/plain": [
       "<Figure size 432x288 with 2 Axes>"
      ]
     },
     "metadata": {
      "needs_background": "light"
     },
     "output_type": "display_data"
    }
   ],
   "source": [
    "#decision tree classifier\n",
    "dtw=DecisionTreeClassifier()\n",
    "model14=dtw.fit(x_train1, y_train1)\n",
    "print(\"train accuracy:\",model14.score(x_train1, y_train1),\"\\n\",\"test accuracy:\",model14.score(x_test,y_test))\n",
    "\n",
    "dtwpred = dtw.predict(x_test)\n",
    "print(\"\\n\")\n",
    "print(\"classification report for decision tree classifier\")\n",
    "print(classification_report(dtwpred,y_test))\n",
    "print(\"\\n\")\n",
    "print(\"confusion matrix for decision tree classifier\")\n",
    "displr = plot_confusion_matrix(dtw, x_test, y_test ,cmap=plt.cm.OrRd , values_format='d')"
   ]
  },
  {
   "cell_type": "code",
   "execution_count": 48,
   "id": "5517532e",
   "metadata": {},
   "outputs": [
    {
     "name": "stdout",
     "output_type": "stream",
     "text": [
      "train accuracy: 1.0 \n",
      " test accuracy: 0.8375\n",
      "\n",
      "\n",
      "classification report for random forest classifier\n",
      "              precision    recall  f1-score   support\n",
      "\n",
      "           1       0.82      0.83      0.82       146\n",
      "           2       0.85      0.84      0.85       174\n",
      "\n",
      "    accuracy                           0.84       320\n",
      "   macro avg       0.84      0.84      0.84       320\n",
      "weighted avg       0.84      0.84      0.84       320\n",
      "\n",
      "\n",
      "\n",
      "confusion matrix for random forest classifier\n"
     ]
    },
    {
     "data": {
      "image/png": "[encoded data removed]",
      "text/plain": [
       "<Figure size 432x288 with 2 Axes>"
      ]
     },
     "metadata": {
      "needs_background": "light"
     },
     "output_type": "display_data"
    }
   ],
   "source": [
    "rfw=RandomForestClassifier()\n",
    "model15=rfw.fit(x_train1, y_train1)\n",
    "print(\"train accuracy:\",model15.score(x_train1, y_train1),\"\\n\",\"test accuracy:\",model15.score(x_test,y_test))\n",
    "\n",
    "rfwpred = rfw.predict(x_test)\n",
    "print(\"\\n\")\n",
    "print(\"classification report for random forest classifier\")\n",
    "print(classification_report(rfwpred,y_test))\n",
    "print(\"\\n\")\n",
    "print(\"confusion matrix for random forest classifier\")\n",
    "displr = plot_confusion_matrix(rfw, x_test, y_test ,cmap=plt.cm.OrRd , values_format='d')"
   ]
  },
  {
   "cell_type": "code",
   "execution_count": 49,
   "id": "c34bda72",
   "metadata": {},
   "outputs": [
    {
     "name": "stdout",
     "output_type": "stream",
     "text": [
      "train accuracy: 0.9882720875684128 \n",
      " test accuracy: 0.8\n",
      "\n",
      "\n",
      "classification report for bagging classifier\n",
      "              precision    recall  f1-score   support\n",
      "\n",
      "           1       0.80      0.78      0.79       152\n",
      "           2       0.80      0.82      0.81       168\n",
      "\n",
      "    accuracy                           0.80       320\n",
      "   macro avg       0.80      0.80      0.80       320\n",
      "weighted avg       0.80      0.80      0.80       320\n",
      "\n",
      "\n",
      "\n",
      "confusion matrix for bagging classifier\n"
     ]
    },
    {
     "data": {
      "image/png": "[encoded data removed]",
      "text/plain": [
       "<Figure size 432x288 with 2 Axes>"
      ]
     },
     "metadata": {
      "needs_background": "light"
     },
     "output_type": "display_data"
    }
   ],
   "source": [
    "bgw=BaggingClassifier()\n",
    "model16=bgw.fit(x_train1, y_train1)\n",
    "print(\"train accuracy:\",model16.score(x_train1, y_train1),\"\\n\",\"test accuracy:\",model16.score(x_test,y_test))\n",
    "\n",
    "bgwpred = bgw.predict(x_test)\n",
    "print(\"\\n\")\n",
    "print(\"classification report for bagging classifier\")\n",
    "print(classification_report(bgwpred,y_test))\n",
    "print(\"\\n\")\n",
    "print(\"confusion matrix for bagging classifier\")\n",
    "displr = plot_confusion_matrix(bgw, x_test, y_test ,cmap=plt.cm.OrRd , values_format='d')"
   ]
  },
  {
   "cell_type": "code",
   "execution_count": 50,
   "id": "1623bec4",
   "metadata": {},
   "outputs": [
    {
     "name": "stdout",
     "output_type": "stream",
     "text": [
      "train accuracy: 0.874120406567631 \n",
      " test accuracy: 0.8\n",
      "\n",
      "\n",
      "classification report for gradient boosting classifier\n",
      "              precision    recall  f1-score   support\n",
      "\n",
      "           1       0.80      0.77      0.79       154\n",
      "           2       0.80      0.83      0.81       166\n",
      "\n",
      "    accuracy                           0.80       320\n",
      "   macro avg       0.80      0.80      0.80       320\n",
      "weighted avg       0.80      0.80      0.80       320\n",
      "\n",
      "\n",
      "\n",
      "confusion matrix for gradient boosting classifier\n"
     ]
    },
    {
     "data": {
      "image/png": "[encoded data removed]",
      "text/plain": [
       "<Figure size 432x288 with 2 Axes>"
      ]
     },
     "metadata": {
      "needs_background": "light"
     },
     "output_type": "display_data"
    }
   ],
   "source": [
    "gbmw=GradientBoostingClassifier()\n",
    "model17=gbmw.fit(x_train1, y_train1)\n",
    "print(\"train accuracy:\",model17.score(x_train1, y_train1),\"\\n\",\"test accuracy:\",model17.score(x_test,y_test))\n",
    "\n",
    "gbmwpred = gbmw.predict(x_test)\n",
    "print(\"\\n\")\n",
    "print(\"classification report for gradient boosting classifier\")\n",
    "print(classification_report(gbmwpred,y_test))\n",
    "print(\"\\n\")\n",
    "print(\"confusion matrix for gradient boosting classifier\")\n",
    "displr = plot_confusion_matrix(gbmw, x_test, y_test ,cmap=plt.cm.OrRd , values_format='d')"
   ]
  },
  {
   "cell_type": "code",
   "execution_count": 51,
   "id": "ee56b024",
   "metadata": {},
   "outputs": [
    {
     "name": "stdout",
     "output_type": "stream",
     "text": [
      "train accuracy: 0.7998436278342455 \n",
      " test accuracy: 0.7625\n",
      "\n",
      "\n",
      "classification report for adaboost classifier\n",
      "              precision    recall  f1-score   support\n",
      "\n",
      "           1       0.74      0.75      0.74       146\n",
      "           2       0.78      0.78      0.78       174\n",
      "\n",
      "    accuracy                           0.76       320\n",
      "   macro avg       0.76      0.76      0.76       320\n",
      "weighted avg       0.76      0.76      0.76       320\n",
      "\n",
      "\n",
      "\n",
      "confusion matrix for adaboost classifier\n"
     ]
    },
    {
     "data": {
      "image/png": "[encoded data removed]",
      "text/plain": [
       "<Figure size 432x288 with 2 Axes>"
      ]
     },
     "metadata": {
      "needs_background": "light"
     },
     "output_type": "display_data"
    }
   ],
   "source": [
    "adaw=AdaBoostClassifier()\n",
    "model18=adaw.fit(x_train1, y_train1)\n",
    "print(\"train accuracy:\",model18.score(x_train1, y_train1),\"\\n\",\"test accuracy:\",model18.score(x_test,y_test))\n",
    "\n",
    "adawpred = adaw.predict(x_test)\n",
    "print(\"\\n\")\n",
    "print(\"classification report for adaboost classifier\")\n",
    "print(classification_report(adawpred,y_test))\n",
    "print(\"\\n\")\n",
    "print(\"confusion matrix for adaboost classifier\")\n",
    "displr = plot_confusion_matrix(adaw, x_test, y_test ,cmap=plt.cm.OrRd , values_format='d')"
   ]
  },
  {
   "cell_type": "code",
   "execution_count": 52,
   "id": "32866c04",
   "metadata": {},
   "outputs": [
    {
     "name": "stderr",
     "output_type": "stream",
     "text": [
      "C:\\Users\\91730\\anaconda3\\lib\\site-packages\\xgboost\\sklearn.py:1224: UserWarning: The use of label encoder in XGBClassifier is deprecated and will be removed in a future release. To remove this warning, do the following: 1) Pass option use_label_encoder=False when constructing XGBClassifier object; and 2) Encode your labels (y) as integers starting with 0, i.e. 0, 1, 2, ..., [num_class - 1].\n",
      "  warnings.warn(label_encoder_deprecation_msg, UserWarning)\n"
     ]
    },
    {
     "name": "stdout",
     "output_type": "stream",
     "text": [
      "[02:33:36] WARNING: C:/Users/Administrator/workspace/xgboost-win64_release_1.5.0/src/learner.cc:1115: Starting in XGBoost 1.3.0, the default evaluation metric used with the objective 'binary:logistic' was changed from 'error' to 'logloss'. Explicitly set eval_metric if you'd like to restore the old behavior.\n",
      "train accuracy: 1.0 \n",
      " test accuracy: 0.825\n",
      "\n",
      "\n",
      "classification report for extreme gradient boosting classifier\n",
      "              precision    recall  f1-score   support\n",
      "\n",
      "           1       0.82      0.81      0.81       150\n",
      "           2       0.83      0.84      0.84       170\n",
      "\n",
      "    accuracy                           0.82       320\n",
      "   macro avg       0.82      0.82      0.82       320\n",
      "weighted avg       0.82      0.82      0.82       320\n",
      "\n",
      "\n",
      "\n",
      "confusion matrix for extreme gradient boosting classifier\n"
     ]
    },
    {
     "data": {
      "image/png": "[encoded data removed]",
      "text/plain": [
       "<Figure size 432x288 with 2 Axes>"
      ]
     },
     "metadata": {
      "needs_background": "light"
     },
     "output_type": "display_data"
    }
   ],
   "source": [
    "xgbw = XGBClassifier()\n",
    "model19=xgbw.fit(x_train1.values, y_train1)\n",
    "print(\"train accuracy:\",model19.score(x_train1, y_train1),\"\\n\",\"test accuracy:\",model19.score(x_test,y_test))\n",
    "\n",
    "xgbwpred = xgbw.predict(x_test.values)\n",
    "print(\"\\n\")\n",
    "print(\"classification report for extreme gradient boosting classifier\")\n",
    "print(classification_report(xgbwpred,y_test))\n",
    "print(\"\\n\")\n",
    "print(\"confusion matrix for extreme gradient boosting classifier\")\n",
    "displr = plot_confusion_matrix(xgbw, x_test.values, y_test ,cmap=plt.cm.OrRd , values_format='d')"
   ]
  },
  {
   "cell_type": "code",
   "execution_count": 53,
   "id": "c4a8429e",
   "metadata": {},
   "outputs": [
    {
     "name": "stdout",
     "output_type": "stream",
     "text": [
      "train accuracy: 1.0 \n",
      " test accuracy: 0.83125\n",
      "\n",
      "\n",
      "classification report for extra tree classifier\n",
      "              precision    recall  f1-score   support\n",
      "\n",
      "           1       0.80      0.83      0.81       142\n",
      "           2       0.86      0.83      0.85       178\n",
      "\n",
      "    accuracy                           0.83       320\n",
      "   macro avg       0.83      0.83      0.83       320\n",
      "weighted avg       0.83      0.83      0.83       320\n",
      "\n",
      "\n",
      "\n",
      "confusion matrix for extra tree classifier\n"
     ]
    },
    {
     "data": {
      "image/png": "[encoded data removed]",
      "text/plain": [
       "<Figure size 432x288 with 2 Axes>"
      ]
     },
     "metadata": {
      "needs_background": "light"
     },
     "output_type": "display_data"
    }
   ],
   "source": [
    "extreew = ExtraTreesClassifier()\n",
    "model20=extreew.fit(x_train1, y_train1)\n",
    "print(\"train accuracy:\",model20.score(x_train1, y_train1),\"\\n\",\"test accuracy:\",model20.score(x_test,y_test))\n",
    "\n",
    "extwpred = extreew.predict(x_test)\n",
    "print(\"\\n\")\n",
    "print(\"classification report for extra tree classifier\")\n",
    "print(classification_report(extwpred,y_test))\n",
    "print(\"\\n\")\n",
    "print(\"confusion matrix for extra tree classifier\")\n",
    "displr = plot_confusion_matrix(extreew, x_test, y_test ,cmap=plt.cm.OrRd , values_format='d')"
   ]
  },
  {
   "cell_type": "code",
   "execution_count": 54,
   "id": "64af2cc1",
   "metadata": {},
   "outputs": [
    {
     "name": "stdout",
     "output_type": "stream",
     "text": [
      "train accuracy: 1.0 \n",
      " test accuracy: 0.85625\n",
      "\n",
      "\n",
      "classification report for voting classifier\n",
      "              precision    recall  f1-score   support\n",
      "\n",
      "           1       0.83      0.85      0.84       144\n",
      "           2       0.88      0.86      0.87       176\n",
      "\n",
      "    accuracy                           0.86       320\n",
      "   macro avg       0.85      0.86      0.86       320\n",
      "weighted avg       0.86      0.86      0.86       320\n",
      "\n",
      "\n",
      "\n",
      "confusion matrix for voting classifier\n"
     ]
    },
    {
     "data": {
      "image/png": "[encoded data removed]",
      "text/plain": [
       "<Figure size 432x288 with 2 Axes>"
      ]
     },
     "metadata": {
      "needs_background": "light"
     },
     "output_type": "display_data"
    }
   ],
   "source": [
    "\n",
    "clf1 = ExtraTreesClassifier()\n",
    "clf2 = RandomForestClassifier()\n",
    "\n",
    "vcw = VotingClassifier(estimators=[('ext', clf1),('rf', clf2)], voting='soft')\n",
    "model21=vcw.fit(x_train1, y_train1)\n",
    "print(\"train accuracy:\",model21.score(x_train1, y_train1),\"\\n\",\"test accuracy:\",model21.score(x_test,y_test))\n",
    "\n",
    "vcwpred = vcw.predict(x_test)\n",
    "print(\"\\n\")\n",
    "print(\"classification report for voting classifier\")\n",
    "print(classification_report(vcwpred,y_test))\n",
    "print(\"\\n\")\n",
    "print(\"confusion matrix for voting classifier\")\n",
    "displr = plot_confusion_matrix(vcw, x_test, y_test ,cmap=plt.cm.OrRd , values_format='d')"
   ]
  },
  {
   "cell_type": "code",
   "execution_count": 55,
   "id": "746341bb",
   "metadata": {},
   "outputs": [],
   "source": [
    "from sklearn.naive_bayes import GaussianNB\n",
    "from sklearn.preprocessing import StandardScaler\n",
    "from sklearn.pipeline import make_pipeline\n",
    "from sklearn.ensemble import StackingClassifier"
   ]
  },
  {
   "cell_type": "code",
   "execution_count": 56,
   "id": "fc189586",
   "metadata": {},
   "outputs": [
    {
     "name": "stdout",
     "output_type": "stream",
     "text": [
      "Requirement already satisfied: scikit-learn in c:\\users\\91730\\anaconda3\\lib\\site-packages (0.24.1)\n",
      "Collecting scikit-learn\n",
      "  Downloading scikit_learn-1.0.1-cp38-cp38-win_amd64.whl (7.2 MB)\n",
      "Requirement already satisfied: scipy>=1.1.0 in c:\\users\\91730\\anaconda3\\lib\\site-packages (from scikit-learn) (1.6.2)\n",
      "Requirement already satisfied: numpy>=1.14.6 in c:\\users\\91730\\anaconda3\\lib\\site-packages (from scikit-learn) (1.20.1)\n",
      "Requirement already satisfied: joblib>=0.11 in c:\\users\\91730\\anaconda3\\lib\\site-packages (from scikit-learn) (1.0.1)\n",
      "Requirement already satisfied: threadpoolctl>=2.0.0 in c:\\users\\91730\\anaconda3\\lib\\site-packages (from scikit-learn) (2.1.0)\n",
      "Installing collected packages: scikit-learn\n",
      "  Attempting uninstall: scikit-learn\n",
      "    Found existing installation: scikit-learn 0.24.1\n",
      "    Uninstalling scikit-learn-0.24.1:\n",
      "      Successfully uninstalled scikit-learn-0.24.1\n"
     ]
    },
    {
     "name": "stderr",
     "output_type": "stream",
     "text": [
      "ERROR: Could not install packages due to an OSError: [WinError 5] Access is denied: 'C:\\\\Users\\\\91730\\\\anaconda3\\\\Lib\\\\site-packages\\\\~klearn\\\\cluster\\\\_dbscan_inner.cp38-win_amd64.pyd'\n",
      "Consider using the `--user` option or check the permissions.\n",
      "\n"
     ]
    }
   ],
   "source": [
    "!pip install --upgrade scikit-learn"
   ]
  },
  {
   "cell_type": "code",
   "execution_count": 57,
   "id": "35d240a1",
   "metadata": {},
   "outputs": [
    {
     "name": "stdout",
     "output_type": "stream",
     "text": [
      "train accuracy: 1.0 \n",
      " test accuracy: 0.859375\n",
      "\n",
      "\n",
      "classification report for voting classifier\n",
      "              precision    recall  f1-score   support\n",
      "\n",
      "           1       0.83      0.86      0.85       143\n",
      "           2       0.88      0.86      0.87       177\n",
      "\n",
      "    accuracy                           0.86       320\n",
      "   macro avg       0.86      0.86      0.86       320\n",
      "weighted avg       0.86      0.86      0.86       320\n",
      "\n",
      "\n",
      "\n",
      "confusion matrix for voting classifier\n"
     ]
    },
    {
     "data": {
      "image/png": "[encoded data removed]",
      "text/plain": [
       "<Figure size 432x288 with 2 Axes>"
      ]
     },
     "metadata": {
      "needs_background": "light"
     },
     "output_type": "display_data"
    }
   ],
   "source": [
    "estimators = [('rf', RandomForestClassifier(n_estimators=10, random_state=2)),('ext', make_pipeline(StandardScaler(),  ExtraTreesClassifier(random_state=12)))]\n",
    "scw= StackingClassifier( estimators=estimators, final_estimator=LogisticRegression())\n",
    "\n",
    "model22=scw.fit(x_train1, y_train1)\n",
    "print(\"train accuracy:\",model22.score(x_train1, y_train1),\"\\n\",\"test accuracy:\",model22.score(x_test,y_test))\n",
    "\n",
    "scwpred = scw.predict(x_test)\n",
    "print(\"\\n\")\n",
    "print(\"classification report for voting classifier\")\n",
    "print(classification_report(scwpred,y_test))\n",
    "print(\"\\n\")\n",
    "print(\"confusion matrix for voting classifier\")\n",
    "displr = plot_confusion_matrix(scw, x_test, y_test ,cmap=plt.cm.OrRd , values_format='d')"
   ]
  },
  {
   "cell_type": "markdown",
   "id": "3c2cff72",
   "metadata": {},
   "source": [
    "without sampling case give extra tree classifier as the best accuracy , but we see that oversampling using smote gave us the best accuracy with voting classifier model accuracy 86.25%\n",
    "\n",
    "Applying the same for white wine dataset"
   ]
  },
  {
   "cell_type": "code",
   "execution_count": 58,
   "id": "542db249",
   "metadata": {},
   "outputs": [
    {
     "data": {
      "text/plain": [
       "array([6, 5, 7, 8, 4, 3, 9], dtype=int64)"
      ]
     },
     "execution_count": 58,
     "metadata": {},
     "output_type": "execute_result"
    }
   ],
   "source": [
    "data1['quality'].unique()"
   ]
  },
  {
   "cell_type": "code",
   "execution_count": 59,
   "id": "c2c8b01d",
   "metadata": {},
   "outputs": [],
   "source": [
    "new=[]\n",
    "for row in data1['quality']:\n",
    "    if (row<=5):\n",
    "        val=1\n",
    "    else:\n",
    "        val=2\n",
    "    new.append(val)"
   ]
  },
  {
   "cell_type": "code",
   "execution_count": 60,
   "id": "d0067f71",
   "metadata": {},
   "outputs": [],
   "source": [
    "data1['newquality']=new"
   ]
  },
  {
   "cell_type": "code",
   "execution_count": 61,
   "id": "f5017767",
   "metadata": {},
   "outputs": [
    {
     "name": "stderr",
     "output_type": "stream",
     "text": [
      "C:\\Users\\91730\\anaconda3\\lib\\site-packages\\seaborn\\_decorators.py:36: FutureWarning: Pass the following variable as a keyword arg: x. From version 0.12, the only valid positional argument will be `data`, and passing other arguments without an explicit keyword will result in an error or misinterpretation.\n",
      "  warnings.warn(\n"
     ]
    },
    {
     "data": {
      "text/plain": [
       "<AxesSubplot:xlabel='newquality', ylabel='count'>"
      ]
     },
     "execution_count": 61,
     "metadata": {},
     "output_type": "execute_result"
    },
    {
     "data": {
      "image/png": "[encoded data removed]",
      "text/plain": [
       "<Figure size 432x288 with 1 Axes>"
      ]
     },
     "metadata": {
      "needs_background": "light"
     },
     "output_type": "display_data"
    }
   ],
   "source": [
    "sns.countplot(data1['newquality'],palette='OrRd')"
   ]
  },
  {
   "cell_type": "code",
   "execution_count": 62,
   "id": "c4a461f8",
   "metadata": {},
   "outputs": [],
   "source": [
    "#highly imbalance data, applying oversampling technique"
   ]
  },
  {
   "cell_type": "code",
   "execution_count": 63,
   "id": "23505984",
   "metadata": {},
   "outputs": [],
   "source": [
    "from imblearn.over_sampling import SMOTE\n",
    "\n",
    "oversample = SMOTE()\n",
    "x_train, y_train = oversample.fit_resample(x_train1, y_train1)"
   ]
  },
  {
   "cell_type": "code",
   "execution_count": 64,
   "id": "17049d52",
   "metadata": {},
   "outputs": [
    {
     "name": "stderr",
     "output_type": "stream",
     "text": [
      "C:\\Users\\91730\\anaconda3\\lib\\site-packages\\seaborn\\_decorators.py:36: FutureWarning: Pass the following variable as a keyword arg: x. From version 0.12, the only valid positional argument will be `data`, and passing other arguments without an explicit keyword will result in an error or misinterpretation.\n",
      "  warnings.warn(\n"
     ]
    },
    {
     "data": {
      "text/plain": [
       "<AxesSubplot:xlabel='newquality', ylabel='count'>"
      ]
     },
     "execution_count": 64,
     "metadata": {},
     "output_type": "execute_result"
    },
    {
     "data": {
      "image/png": "[encoded data removed]",
      "text/plain": [
       "<Figure size 432x288 with 1 Axes>"
      ]
     },
     "metadata": {
      "needs_background": "light"
     },
     "output_type": "display_data"
    }
   ],
   "source": [
    "sns.countplot(y_train,palette='OrRd')"
   ]
  },
  {
   "cell_type": "code",
   "execution_count": 65,
   "id": "1c52dd90",
   "metadata": {},
   "outputs": [
    {
     "name": "stdout",
     "output_type": "stream",
     "text": [
      "[(1, 683), (2, 683)]\n"
     ]
    }
   ],
   "source": [
    "print(sorted(Counter(y_train).items()))"
   ]
  },
  {
   "cell_type": "code",
   "execution_count": 66,
   "id": "cbed0aef",
   "metadata": {},
   "outputs": [
    {
     "name": "stdout",
     "output_type": "stream",
     "text": [
      "train accuracy: 0.739385065885798 \n",
      " test accuracy: 0.759375\n",
      "\n",
      "\n",
      "classification report for logistic regression\n",
      "              precision    recall  f1-score   support\n",
      "\n",
      "           1       0.80      0.71      0.76       167\n",
      "           2       0.72      0.81      0.76       153\n",
      "\n",
      "    accuracy                           0.76       320\n",
      "   macro avg       0.76      0.76      0.76       320\n",
      "weighted avg       0.76      0.76      0.76       320\n",
      "\n",
      "\n",
      "\n",
      "confusion matrix for logistic regression\n"
     ]
    },
    {
     "data": {
      "image/png": "[encoded data removed]",
      "text/plain": [
       "<Figure size 432x288 with 2 Axes>"
      ]
     },
     "metadata": {
      "needs_background": "light"
     },
     "output_type": "display_data"
    }
   ],
   "source": [
    "#logistic regression\n",
    "lr = LogisticRegression(max_iter=20000,penalty='l2')\n",
    "model1=lr.fit(x_train, y_train)\n",
    "print(\"train accuracy:\",model1.score(x_train, y_train),\"\\n\",\"test accuracy:\",model1.score(x_test,y_test))\n",
    "lrpred = lr.predict(x_test)\n",
    "print(\"\\n\")\n",
    "print(\"classification report for logistic regression\")\n",
    "print(classification_report(lrpred,y_test))\n",
    "print(\"\\n\")\n",
    "print(\"confusion matrix for logistic regression\")\n",
    "displr = plot_confusion_matrix(lr, x_test, y_test,cmap=plt.cm.OrRd , values_format='d')"
   ]
  },
  {
   "cell_type": "code",
   "execution_count": 67,
   "id": "a6d175c1",
   "metadata": {},
   "outputs": [
    {
     "name": "stdout",
     "output_type": "stream",
     "text": [
      "train accuracy: 0.7386530014641288 \n",
      " test accuracy: 0.7625\n",
      "\n",
      "\n",
      "classification report for linear discriminant analysis\n",
      "              precision    recall  f1-score   support\n",
      "\n",
      "           1       0.81      0.71      0.76       168\n",
      "           2       0.72      0.82      0.77       152\n",
      "\n",
      "    accuracy                           0.76       320\n",
      "   macro avg       0.77      0.77      0.76       320\n",
      "weighted avg       0.77      0.76      0.76       320\n",
      "\n",
      "\n",
      "\n",
      "confusion matrix for linear discriminant analysis\n"
     ]
    },
    {
     "data": {
      "image/png": "[encoded data removed]",
      "text/plain": [
       "<Figure size 432x288 with 2 Axes>"
      ]
     },
     "metadata": {
      "needs_background": "light"
     },
     "output_type": "display_data"
    }
   ],
   "source": [
    "#linear discriminant analysis\n",
    "lda = LinearDiscriminantAnalysis()\n",
    "model2=lda.fit(x_train, y_train)\n",
    "print(\"train accuracy:\",model2.score(x_train, y_train),\"\\n\",\"test accuracy:\",model2.score(x_test,y_test))\n",
    "\n",
    "ldapred = lda.predict(x_test)\n",
    "print(\"\\n\")\n",
    "print(\"classification report for linear discriminant analysis\")\n",
    "print(classification_report(ldapred,y_test))\n",
    "print(\"\\n\")\n",
    "print(\"confusion matrix for linear discriminant analysis\")\n",
    "displr = plot_confusion_matrix(lda, x_test, y_test ,cmap=plt.cm.OrRd , values_format='d')"
   ]
  },
  {
   "cell_type": "code",
   "execution_count": 68,
   "id": "ad4b6baf",
   "metadata": {},
   "outputs": [
    {
     "name": "stdout",
     "output_type": "stream",
     "text": [
      "train accuracy: 1.0 \n",
      " test accuracy: 0.753125\n",
      "\n",
      "\n",
      "classification report for decision tree classifier\n",
      "              precision    recall  f1-score   support\n",
      "\n",
      "           1       0.76      0.72      0.74       155\n",
      "           2       0.75      0.78      0.77       165\n",
      "\n",
      "    accuracy                           0.75       320\n",
      "   macro avg       0.75      0.75      0.75       320\n",
      "weighted avg       0.75      0.75      0.75       320\n",
      "\n",
      "\n",
      "\n",
      "confusion matrix for decision tree classifier\n"
     ]
    },
    {
     "data": {
      "image/png": "[encoded data removed]",
      "text/plain": [
       "<Figure size 432x288 with 2 Axes>"
      ]
     },
     "metadata": {
      "needs_background": "light"
     },
     "output_type": "display_data"
    }
   ],
   "source": [
    "#decision tree classifier\n",
    "dt=DecisionTreeClassifier()\n",
    "model3=dt.fit(x_train, y_train)\n",
    "print(\"train accuracy:\",model3.score(x_train, y_train),\"\\n\",\"test accuracy:\",model3.score(x_test,y_test))\n",
    "\n",
    "dtpred = dt.predict(x_test)\n",
    "print(\"\\n\")\n",
    "print(\"classification report for decision tree classifier\")\n",
    "print(classification_report(dtpred,y_test))\n",
    "print(\"\\n\")\n",
    "print(\"confusion matrix for decision tree classifier\")\n",
    "displr = plot_confusion_matrix(dt, x_test, y_test ,cmap=plt.cm.OrRd , values_format='d')"
   ]
  },
  {
   "cell_type": "code",
   "execution_count": 69,
   "id": "653742ef",
   "metadata": {},
   "outputs": [
    {
     "name": "stdout",
     "output_type": "stream",
     "text": [
      "train accuracy: 1.0 \n",
      " test accuracy: 0.840625\n",
      "\n",
      "\n",
      "classification report for random forest classifier\n",
      "              precision    recall  f1-score   support\n",
      "\n",
      "           1       0.84      0.82      0.83       151\n",
      "           2       0.84      0.86      0.85       169\n",
      "\n",
      "    accuracy                           0.84       320\n",
      "   macro avg       0.84      0.84      0.84       320\n",
      "weighted avg       0.84      0.84      0.84       320\n",
      "\n",
      "\n",
      "\n",
      "confusion matrix for random forest classifier\n"
     ]
    },
    {
     "data": {
      "image/png": "[encoded data removed]",
      "text/plain": [
       "<Figure size 432x288 with 2 Axes>"
      ]
     },
     "metadata": {
      "needs_background": "light"
     },
     "output_type": "display_data"
    }
   ],
   "source": [
    "#random forest classifier\n",
    "rf=RandomForestClassifier()\n",
    "model4=rf.fit(x_train, y_train)\n",
    "print(\"train accuracy:\",model4.score(x_train, y_train),\"\\n\",\"test accuracy:\",model4.score(x_test,y_test))\n",
    "\n",
    "rfpred = rf.predict(x_test)\n",
    "print(\"\\n\")\n",
    "print(\"classification report for random forest classifier\")\n",
    "print(classification_report(rfpred,y_test))\n",
    "print(\"\\n\")\n",
    "print(\"confusion matrix for random forest classifier\")\n",
    "displr = plot_confusion_matrix(rf, x_test, y_test ,cmap=plt.cm.OrRd , values_format='d')"
   ]
  },
  {
   "cell_type": "code",
   "execution_count": 70,
   "id": "daca325c",
   "metadata": {},
   "outputs": [
    {
     "name": "stdout",
     "output_type": "stream",
     "text": [
      "train accuracy: 0.9919472913616398 \n",
      " test accuracy: 0.8125\n",
      "\n",
      "\n",
      "classification report for bagging classifier\n",
      "              precision    recall  f1-score   support\n",
      "\n",
      "           1       0.84      0.77      0.81       162\n",
      "           2       0.78      0.85      0.82       158\n",
      "\n",
      "    accuracy                           0.81       320\n",
      "   macro avg       0.81      0.81      0.81       320\n",
      "weighted avg       0.82      0.81      0.81       320\n",
      "\n",
      "\n",
      "\n",
      "confusion matrix for bagging classifier\n"
     ]
    },
    {
     "data": {
      "image/png": "[encoded data removed]",
      "text/plain": [
       "<Figure size 432x288 with 2 Axes>"
      ]
     },
     "metadata": {
      "needs_background": "light"
     },
     "output_type": "display_data"
    }
   ],
   "source": [
    "#bagging classifier\n",
    "bg=BaggingClassifier()\n",
    "model5=bg.fit(x_train, y_train)\n",
    "print(\"train accuracy:\",model5.score(x_train, y_train),\"\\n\",\"test accuracy:\",model5.score(x_test,y_test))\n",
    "\n",
    "bgpred = bg.predict(x_test)\n",
    "print(\"\\n\")\n",
    "print(\"classification report for bagging classifier\")\n",
    "print(classification_report(bgpred,y_test))\n",
    "print(\"\\n\")\n",
    "print(\"confusion matrix for bagging classifier\")\n",
    "displr = plot_confusion_matrix(bg, x_test, y_test ,cmap=plt.cm.OrRd , values_format='d')"
   ]
  },
  {
   "cell_type": "code",
   "execution_count": 71,
   "id": "8c8876e6",
   "metadata": {},
   "outputs": [
    {
     "name": "stdout",
     "output_type": "stream",
     "text": [
      "train accuracy: 0.8748169838945827 \n",
      " test accuracy: 0.815625\n",
      "\n",
      "\n",
      "classification report for gradient boosting classifier\n",
      "              precision    recall  f1-score   support\n",
      "\n",
      "           1       0.83      0.78      0.81       157\n",
      "           2       0.80      0.85      0.82       163\n",
      "\n",
      "    accuracy                           0.82       320\n",
      "   macro avg       0.82      0.82      0.82       320\n",
      "weighted avg       0.82      0.82      0.82       320\n",
      "\n",
      "\n",
      "\n",
      "confusion matrix for gradient boosting classifier\n"
     ]
    },
    {
     "data": {
      "image/png": "[encoded data removed]",
      "text/plain": [
       "<Figure size 432x288 with 2 Axes>"
      ]
     },
     "metadata": {
      "needs_background": "light"
     },
     "output_type": "display_data"
    }
   ],
   "source": [
    "# gradient boost classifier \n",
    "gbm=GradientBoostingClassifier()\n",
    "model6=gbm.fit(x_train, y_train)\n",
    "print(\"train accuracy:\",model6.score(x_train, y_train),\"\\n\",\"test accuracy:\",model6.score(x_test,y_test))\n",
    "\n",
    "gbmpred = gbm.predict(x_test)\n",
    "print(\"\\n\")\n",
    "print(\"classification report for gradient boosting classifier\")\n",
    "print(classification_report(gbmpred,y_test))\n",
    "print(\"\\n\")\n",
    "print(\"confusion matrix for gradient boosting classifier\")\n",
    "displr = plot_confusion_matrix(gbm, x_test, y_test ,cmap=plt.cm.OrRd , values_format='d')"
   ]
  },
  {
   "cell_type": "code",
   "execution_count": 72,
   "id": "c70a47ae",
   "metadata": {},
   "outputs": [
    {
     "name": "stdout",
     "output_type": "stream",
     "text": [
      "train accuracy: 0.7950219619326501 \n",
      " test accuracy: 0.765625\n",
      "\n",
      "\n",
      "classification report for adaboost classifier\n",
      "              precision    recall  f1-score   support\n",
      "\n",
      "           1       0.77      0.74      0.75       155\n",
      "           2       0.76      0.79      0.78       165\n",
      "\n",
      "    accuracy                           0.77       320\n",
      "   macro avg       0.77      0.76      0.76       320\n",
      "weighted avg       0.77      0.77      0.77       320\n",
      "\n",
      "\n",
      "\n",
      "confusion matrix for adaboost classifier\n"
     ]
    },
    {
     "data": {
      "image/png": "[encoded data removed]",
      "text/plain": [
       "<Figure size 432x288 with 2 Axes>"
      ]
     },
     "metadata": {
      "needs_background": "light"
     },
     "output_type": "display_data"
    }
   ],
   "source": [
    "# adaboost classifier \n",
    "ada=AdaBoostClassifier()\n",
    "model7=ada.fit(x_train, y_train)\n",
    "print(\"train accuracy:\",model7.score(x_train, y_train),\"\\n\",\"test accuracy:\",model7.score(x_test,y_test))\n",
    "\n",
    "adapred = ada.predict(x_test)\n",
    "print(\"\\n\")\n",
    "print(\"classification report for adaboost classifier\")\n",
    "print(classification_report(adapred,y_test))\n",
    "print(\"\\n\")\n",
    "print(\"confusion matrix for adaboost classifier\")\n",
    "displr = plot_confusion_matrix(ada, x_test, y_test ,cmap=plt.cm.OrRd , values_format='d')"
   ]
  },
  {
   "cell_type": "code",
   "execution_count": 73,
   "id": "f29e39b5",
   "metadata": {},
   "outputs": [
    {
     "name": "stderr",
     "output_type": "stream",
     "text": [
      "C:\\Users\\91730\\anaconda3\\lib\\site-packages\\xgboost\\sklearn.py:1224: UserWarning: The use of label encoder in XGBClassifier is deprecated and will be removed in a future release. To remove this warning, do the following: 1) Pass option use_label_encoder=False when constructing XGBClassifier object; and 2) Encode your labels (y) as integers starting with 0, i.e. 0, 1, 2, ..., [num_class - 1].\n",
      "  warnings.warn(label_encoder_deprecation_msg, UserWarning)\n"
     ]
    },
    {
     "name": "stdout",
     "output_type": "stream",
     "text": [
      "[02:37:20] WARNING: C:/Users/Administrator/workspace/xgboost-win64_release_1.5.0/src/learner.cc:1115: Starting in XGBoost 1.3.0, the default evaluation metric used with the objective 'binary:logistic' was changed from 'error' to 'logloss'. Explicitly set eval_metric if you'd like to restore the old behavior.\n",
      "train accuracy: 1.0 \n",
      " test accuracy: 0.834375\n",
      "\n",
      "\n",
      "classification report for extreme gradient boosting classifier\n",
      "              precision    recall  f1-score   support\n",
      "\n",
      "           1       0.82      0.82      0.82       149\n",
      "           2       0.84      0.85      0.85       171\n",
      "\n",
      "    accuracy                           0.83       320\n",
      "   macro avg       0.83      0.83      0.83       320\n",
      "weighted avg       0.83      0.83      0.83       320\n",
      "\n",
      "\n",
      "\n",
      "confusion matrix for extreme gradient boosting classifier\n"
     ]
    },
    {
     "data": {
      "image/png": "[encoded data removed]",
      "text/plain": [
       "<Figure size 432x288 with 2 Axes>"
      ]
     },
     "metadata": {
      "needs_background": "light"
     },
     "output_type": "display_data"
    }
   ],
   "source": [
    "# extreme gradient boost classifier\n",
    "xgb = XGBClassifier()\n",
    "model8=xgb.fit(x_train.values, y_train)\n",
    "print(\"train accuracy:\",model8.score(x_train, y_train),\"\\n\",\"test accuracy:\",model8.score(x_test,y_test))\n",
    "\n",
    "xgbpred = xgb.predict(x_test.values)\n",
    "print(\"\\n\")\n",
    "print(\"classification report for extreme gradient boosting classifier\")\n",
    "print(classification_report(xgbpred,y_test))\n",
    "print(\"\\n\")\n",
    "print(\"confusion matrix for extreme gradient boosting classifier\")\n",
    "displr = plot_confusion_matrix(xgb, x_test.values, y_test ,cmap=plt.cm.OrRd , values_format='d')"
   ]
  },
  {
   "cell_type": "code",
   "execution_count": 74,
   "id": "3908f2be",
   "metadata": {},
   "outputs": [
    {
     "name": "stdout",
     "output_type": "stream",
     "text": [
      "train accuracy: 1.0 \n",
      " test accuracy: 0.85\n",
      "\n",
      "\n",
      "classification report for extra tree classifier\n",
      "              precision    recall  f1-score   support\n",
      "\n",
      "           1       0.84      0.83      0.84       150\n",
      "           2       0.85      0.86      0.86       170\n",
      "\n",
      "    accuracy                           0.85       320\n",
      "   macro avg       0.85      0.85      0.85       320\n",
      "weighted avg       0.85      0.85      0.85       320\n",
      "\n",
      "\n",
      "\n",
      "confusion matrix for extra tree classifier\n"
     ]
    },
    {
     "data": {
      "image/png": "[encoded data removed]",
      "text/plain": [
       "<Figure size 432x288 with 2 Axes>"
      ]
     },
     "metadata": {
      "needs_background": "light"
     },
     "output_type": "display_data"
    }
   ],
   "source": [
    "# extra tree classifier\n",
    "extree = ExtraTreesClassifier()\n",
    "model9=extree.fit(x_train, y_train)\n",
    "print(\"train accuracy:\",model9.score(x_train, y_train),\"\\n\",\"test accuracy:\",model9.score(x_test,y_test))\n",
    "\n",
    "extpred = extree.predict(x_test)\n",
    "print(\"\\n\")\n",
    "print(\"classification report for extra tree classifier\")\n",
    "print(classification_report(extpred,y_test))\n",
    "print(\"\\n\")\n",
    "print(\"confusion matrix for extra tree classifier\")\n",
    "displr = plot_confusion_matrix(extree, x_test, y_test ,cmap=plt.cm.OrRd , values_format='d')"
   ]
  },
  {
   "cell_type": "code",
   "execution_count": 75,
   "id": "92638008",
   "metadata": {},
   "outputs": [
    {
     "name": "stdout",
     "output_type": "stream",
     "text": [
      "train accuracy: 1.0 \n",
      " test accuracy: 0.859375\n",
      "\n",
      "\n",
      "classification report for voting classifier\n",
      "              precision    recall  f1-score   support\n",
      "\n",
      "           1       0.85      0.85      0.85       149\n",
      "           2       0.87      0.87      0.87       171\n",
      "\n",
      "    accuracy                           0.86       320\n",
      "   macro avg       0.86      0.86      0.86       320\n",
      "weighted avg       0.86      0.86      0.86       320\n",
      "\n",
      "\n",
      "\n",
      "confusion matrix for voting classifier\n"
     ]
    },
    {
     "data": {
      "image/png": "[encoded data removed]",
      "text/plain": [
       "<Figure size 432x288 with 2 Axes>"
      ]
     },
     "metadata": {
      "needs_background": "light"
     },
     "output_type": "display_data"
    }
   ],
   "source": [
    "# voting classifer\n",
    "from sklearn.ensemble import VotingClassifier\n",
    "clf1 = ExtraTreesClassifier()\n",
    "clf2 = RandomForestClassifier()\n",
    "\n",
    "vc = VotingClassifier(estimators=[('ext', clf1),('rf', clf2)], voting='soft')\n",
    "model10=vc.fit(x_train, y_train)\n",
    "print(\"train accuracy:\",model10.score(x_train, y_train),\"\\n\",\"test accuracy:\",model10.score(x_test,y_test))\n",
    "\n",
    "vcpred = vc.predict(x_test)\n",
    "print(\"\\n\")\n",
    "print(\"classification report for voting classifier\")\n",
    "print(classification_report(vcpred,y_test))\n",
    "print(\"\\n\")\n",
    "print(\"confusion matrix for voting classifier\")\n",
    "displr = plot_confusion_matrix(vc, x_test, y_test ,cmap=plt.cm.OrRd, values_format='d')"
   ]
  },
  {
   "cell_type": "code",
   "execution_count": 76,
   "id": "88d2d396",
   "metadata": {},
   "outputs": [
    {
     "name": "stdout",
     "output_type": "stream",
     "text": [
      "train accuracy: 1.0 \n",
      " test accuracy: 0.840625\n",
      "\n",
      "\n",
      "classification report for voting classifier\n",
      "              precision    recall  f1-score   support\n",
      "\n",
      "           1       0.84      0.82      0.83       153\n",
      "           2       0.84      0.86      0.85       167\n",
      "\n",
      "    accuracy                           0.84       320\n",
      "   macro avg       0.84      0.84      0.84       320\n",
      "weighted avg       0.84      0.84      0.84       320\n",
      "\n",
      "\n",
      "\n",
      "confusion matrix for voting classifier\n"
     ]
    },
    {
     "data": {
      "image/png": "[encoded data removed]",
      "text/plain": [
       "<Figure size 432x288 with 2 Axes>"
      ]
     },
     "metadata": {
      "needs_background": "light"
     },
     "output_type": "display_data"
    }
   ],
   "source": [
    "# stacking classifier \n",
    "from sklearn.ensemble import StackingClassifier\n",
    "from sklearn.pipeline import make_pipeline\n",
    "from sklearn.preprocessing import StandardScaler\n",
    "\n",
    "estimators = [('rf', RandomForestClassifier(n_estimators=10, random_state=42)),('ext', make_pipeline(StandardScaler(),  ExtraTreesClassifier(random_state=42)))]\n",
    "sc= StackingClassifier( estimators=estimators)\n",
    "\n",
    "model11=sc.fit(x_train, y_train)\n",
    "print(\"train accuracy:\",model11.score(x_train, y_train),\"\\n\",\"test accuracy:\",model11.score(x_test,y_test))\n",
    "\n",
    "scpred = sc.predict(x_test)\n",
    "print(\"\\n\")\n",
    "print(\"classification report for voting classifier\")\n",
    "print(classification_report(scpred,y_test))\n",
    "print(\"\\n\")\n",
    "print(\"confusion matrix for voting classifier\")\n",
    "displr = plot_confusion_matrix(sc, x_test, y_test ,cmap=plt.cm.OrRd , values_format='d')"
   ]
  },
  {
   "cell_type": "code",
   "execution_count": 77,
   "id": "58060d5e",
   "metadata": {},
   "outputs": [
    {
     "name": "stdout",
     "output_type": "stream",
     "text": [
      "train accuracy: 0.7427677873338546 \n",
      " test accuracy: 0.78125\n",
      "\n",
      "\n",
      "classification report for logistic regression\n",
      "              precision    recall  f1-score   support\n",
      "\n",
      "           1       0.79      0.75      0.77       156\n",
      "           2       0.77      0.81      0.79       164\n",
      "\n",
      "    accuracy                           0.78       320\n",
      "   macro avg       0.78      0.78      0.78       320\n",
      "weighted avg       0.78      0.78      0.78       320\n",
      "\n",
      "\n",
      "\n",
      "confusion matrix for logistic regression\n"
     ]
    },
    {
     "data": {
      "image/png": "[encoded data removed]",
      "text/plain": [
       "<Figure size 432x288 with 2 Axes>"
      ]
     },
     "metadata": {
      "needs_background": "light"
     },
     "output_type": "display_data"
    }
   ],
   "source": [
    "#logistic regression without resampling\n",
    "lrw = LogisticRegression(max_iter=20000,penalty='l2')\n",
    "model12=lrw.fit(x_train1, y_train1)\n",
    "print(\"train accuracy:\",model12.score(x_train1, y_train1),\"\\n\",\"test accuracy:\",model12.score(x_test,y_test))\n",
    "lrwpred = lrw.predict(x_test)\n",
    "print(\"\\n\")\n",
    "print(\"classification report for logistic regression\")\n",
    "print(classification_report(lrwpred,y_test))\n",
    "print(\"\\n\")\n",
    "print(\"confusion matrix for logistic regression\")\n",
    "displr = plot_confusion_matrix(lrw, x_test, y_test ,cmap=plt.cm.OrRd , values_format='d')"
   ]
  },
  {
   "cell_type": "code",
   "execution_count": 78,
   "id": "a201db4b",
   "metadata": {},
   "outputs": [
    {
     "name": "stdout",
     "output_type": "stream",
     "text": [
      "train accuracy: 0.7396403440187647 \n",
      " test accuracy: 0.7875\n",
      "\n",
      "\n",
      "classification report for linear discriminant analysis\n",
      "              precision    recall  f1-score   support\n",
      "\n",
      "           1       0.80      0.76      0.78       156\n",
      "           2       0.78      0.82      0.80       164\n",
      "\n",
      "    accuracy                           0.79       320\n",
      "   macro avg       0.79      0.79      0.79       320\n",
      "weighted avg       0.79      0.79      0.79       320\n",
      "\n",
      "\n",
      "\n",
      "confusion matrix for linear discriminant analysis\n"
     ]
    },
    {
     "data": {
      "image/png": "[encoded data removed]",
      "text/plain": [
       "<Figure size 432x288 with 2 Axes>"
      ]
     },
     "metadata": {
      "needs_background": "light"
     },
     "output_type": "display_data"
    }
   ],
   "source": [
    "#linear discriminant analysis\n",
    "ldaw = LinearDiscriminantAnalysis()\n",
    "model13=ldaw.fit(x_train1, y_train1)\n",
    "print(\"train accuracy:\",model13.score(x_train1, y_train1),\"\\n\",\"test accuracy:\",model13.score(x_test,y_test))\n",
    "\n",
    "ldawpred = ldaw.predict(x_test)\n",
    "print(\"\\n\")\n",
    "print(\"classification report for linear discriminant analysis\")\n",
    "print(classification_report(ldawpred,y_test))\n",
    "print(\"\\n\")\n",
    "print(\"confusion matrix for linear discriminant analysis\")\n",
    "displr = plot_confusion_matrix(ldaw, x_test, y_test ,cmap=plt.cm.OrRd , values_format='d')"
   ]
  },
  {
   "cell_type": "code",
   "execution_count": 79,
   "id": "43e37716",
   "metadata": {},
   "outputs": [
    {
     "name": "stdout",
     "output_type": "stream",
     "text": [
      "train accuracy: 1.0 \n",
      " test accuracy: 0.746875\n",
      "\n",
      "\n",
      "classification report for decision tree classifier\n",
      "              precision    recall  f1-score   support\n",
      "\n",
      "           1       0.74      0.72      0.73       151\n",
      "           2       0.76      0.77      0.76       169\n",
      "\n",
      "    accuracy                           0.75       320\n",
      "   macro avg       0.75      0.75      0.75       320\n",
      "weighted avg       0.75      0.75      0.75       320\n",
      "\n",
      "\n",
      "\n",
      "confusion matrix for decision tree classifier\n"
     ]
    },
    {
     "data": {
      "image/png": "[encoded data removed]",
      "text/plain": [
       "<Figure size 432x288 with 2 Axes>"
      ]
     },
     "metadata": {
      "needs_background": "light"
     },
     "output_type": "display_data"
    }
   ],
   "source": [
    "#decision tree classifier\n",
    "dtw=DecisionTreeClassifier()\n",
    "model14=dtw.fit(x_train1, y_train1)\n",
    "print(\"train accuracy:\",model14.score(x_train1, y_train1),\"\\n\",\"test accuracy:\",model14.score(x_test,y_test))\n",
    "\n",
    "dtwpred = dtw.predict(x_test)\n",
    "print(\"\\n\")\n",
    "print(\"classification report for decision tree classifier\")\n",
    "print(classification_report(dtwpred,y_test))\n",
    "print(\"\\n\")\n",
    "print(\"confusion matrix for decision tree classifier\")\n",
    "displr = plot_confusion_matrix(dtw, x_test, y_test ,cmap=plt.cm.OrRd , values_format='d')"
   ]
  },
  {
   "cell_type": "code",
   "execution_count": 80,
   "id": "91c2bece",
   "metadata": {},
   "outputs": [
    {
     "name": "stdout",
     "output_type": "stream",
     "text": [
      "train accuracy: 1.0 \n",
      " test accuracy: 0.84375\n",
      "\n",
      "\n",
      "classification report for random forest classifier\n",
      "              precision    recall  f1-score   support\n",
      "\n",
      "           1       0.82      0.84      0.83       146\n",
      "           2       0.86      0.85      0.86       174\n",
      "\n",
      "    accuracy                           0.84       320\n",
      "   macro avg       0.84      0.84      0.84       320\n",
      "weighted avg       0.84      0.84      0.84       320\n",
      "\n",
      "\n",
      "\n",
      "confusion matrix for random forest classifier\n"
     ]
    },
    {
     "data": {
      "image/png": "[encoded data removed]",
      "text/plain": [
       "<Figure size 432x288 with 2 Axes>"
      ]
     },
     "metadata": {
      "needs_background": "light"
     },
     "output_type": "display_data"
    }
   ],
   "source": [
    "rfw=RandomForestClassifier()\n",
    "model15=rfw.fit(x_train1, y_train1)\n",
    "print(\"train accuracy:\",model15.score(x_train1, y_train1),\"\\n\",\"test accuracy:\",model15.score(x_test,y_test))\n",
    "\n",
    "rfwpred = rfw.predict(x_test)\n",
    "print(\"\\n\")\n",
    "print(\"classification report for random forest classifier\")\n",
    "print(classification_report(rfwpred,y_test))\n",
    "print(\"\\n\")\n",
    "print(\"confusion matrix for random forest classifier\")\n",
    "displr = plot_confusion_matrix(rfw, x_test, y_test ,cmap=plt.cm.OrRd , values_format='d')"
   ]
  },
  {
   "cell_type": "code",
   "execution_count": 81,
   "id": "01f85aeb",
   "metadata": {},
   "outputs": [
    {
     "name": "stdout",
     "output_type": "stream",
     "text": [
      "train accuracy: 0.9851446442533229 \n",
      " test accuracy: 0.784375\n",
      "\n",
      "\n",
      "classification report for bagging classifier\n",
      "              precision    recall  f1-score   support\n",
      "\n",
      "           1       0.80      0.75      0.78       159\n",
      "           2       0.77      0.82      0.79       161\n",
      "\n",
      "    accuracy                           0.78       320\n",
      "   macro avg       0.79      0.78      0.78       320\n",
      "weighted avg       0.79      0.78      0.78       320\n",
      "\n",
      "\n",
      "\n",
      "confusion matrix for bagging classifier\n"
     ]
    },
    {
     "data": {
      "image/png": "[encoded data removed]",
      "text/plain": [
       "<Figure size 432x288 with 2 Axes>"
      ]
     },
     "metadata": {
      "needs_background": "light"
     },
     "output_type": "display_data"
    }
   ],
   "source": [
    "bgw=BaggingClassifier()\n",
    "model16=bgw.fit(x_train1, y_train1)\n",
    "print(\"train accuracy:\",model16.score(x_train1, y_train1),\"\\n\",\"test accuracy:\",model16.score(x_test,y_test))\n",
    "\n",
    "bgwpred = bgw.predict(x_test)\n",
    "print(\"\\n\")\n",
    "print(\"classification report for bagging classifier\")\n",
    "print(classification_report(bgwpred,y_test))\n",
    "print(\"\\n\")\n",
    "print(\"confusion matrix for bagging classifier\")\n",
    "displr = plot_confusion_matrix(bgw, x_test, y_test ,cmap=plt.cm.OrRd , values_format='d')"
   ]
  },
  {
   "cell_type": "code",
   "execution_count": 82,
   "id": "e0c29d6a",
   "metadata": {},
   "outputs": [
    {
     "name": "stdout",
     "output_type": "stream",
     "text": [
      "train accuracy: 0.874120406567631 \n",
      " test accuracy: 0.803125\n",
      "\n",
      "\n",
      "classification report for gradient boosting classifier\n",
      "              precision    recall  f1-score   support\n",
      "\n",
      "           1       0.80      0.78      0.79       153\n",
      "           2       0.80      0.83      0.81       167\n",
      "\n",
      "    accuracy                           0.80       320\n",
      "   macro avg       0.80      0.80      0.80       320\n",
      "weighted avg       0.80      0.80      0.80       320\n",
      "\n",
      "\n",
      "\n",
      "confusion matrix for gradient boosting classifier\n"
     ]
    },
    {
     "data": {
      "image/png": "[encoded data removed]",
      "text/plain": [
       "<Figure size 432x288 with 2 Axes>"
      ]
     },
     "metadata": {
      "needs_background": "light"
     },
     "output_type": "display_data"
    }
   ],
   "source": [
    "gbmw=GradientBoostingClassifier()\n",
    "model17=gbmw.fit(x_train1, y_train1)\n",
    "print(\"train accuracy:\",model17.score(x_train1, y_train1),\"\\n\",\"test accuracy:\",model17.score(x_test,y_test))\n",
    "\n",
    "gbmwpred = gbmw.predict(x_test)\n",
    "print(\"\\n\")\n",
    "print(\"classification report for gradient boosting classifier\")\n",
    "print(classification_report(gbmwpred,y_test))\n",
    "print(\"\\n\")\n",
    "print(\"confusion matrix for gradient boosting classifier\")\n",
    "displr = plot_confusion_matrix(gbmw, x_test, y_test ,cmap=plt.cm.OrRd , values_format='d')"
   ]
  },
  {
   "cell_type": "code",
   "execution_count": 83,
   "id": "1f8b36ac",
   "metadata": {},
   "outputs": [
    {
     "name": "stdout",
     "output_type": "stream",
     "text": [
      "train accuracy: 0.7998436278342455 \n",
      " test accuracy: 0.7625\n",
      "\n",
      "\n",
      "classification report for adaboost classifier\n",
      "              precision    recall  f1-score   support\n",
      "\n",
      "           1       0.74      0.75      0.74       146\n",
      "           2       0.78      0.78      0.78       174\n",
      "\n",
      "    accuracy                           0.76       320\n",
      "   macro avg       0.76      0.76      0.76       320\n",
      "weighted avg       0.76      0.76      0.76       320\n",
      "\n",
      "\n",
      "\n",
      "confusion matrix for adaboost classifier\n"
     ]
    },
    {
     "data": {
      "image/png": "[encoded data removed]",
      "text/plain": [
       "<Figure size 432x288 with 2 Axes>"
      ]
     },
     "metadata": {
      "needs_background": "light"
     },
     "output_type": "display_data"
    }
   ],
   "source": [
    "adaw=AdaBoostClassifier()\n",
    "model18=adaw.fit(x_train1, y_train1)\n",
    "print(\"train accuracy:\",model18.score(x_train1, y_train1),\"\\n\",\"test accuracy:\",model18.score(x_test,y_test))\n",
    "\n",
    "adawpred = adaw.predict(x_test)\n",
    "print(\"\\n\")\n",
    "print(\"classification report for adaboost classifier\")\n",
    "print(classification_report(adawpred,y_test))\n",
    "print(\"\\n\")\n",
    "print(\"confusion matrix for adaboost classifier\")\n",
    "displr = plot_confusion_matrix(adaw, x_test, y_test ,cmap=plt.cm.OrRd , values_format='d')"
   ]
  },
  {
   "cell_type": "code",
   "execution_count": 84,
   "id": "3c1561bf",
   "metadata": {},
   "outputs": [
    {
     "name": "stderr",
     "output_type": "stream",
     "text": [
      "C:\\Users\\91730\\anaconda3\\lib\\site-packages\\xgboost\\sklearn.py:1224: UserWarning: The use of label encoder in XGBClassifier is deprecated and will be removed in a future release. To remove this warning, do the following: 1) Pass option use_label_encoder=False when constructing XGBClassifier object; and 2) Encode your labels (y) as integers starting with 0, i.e. 0, 1, 2, ..., [num_class - 1].\n",
      "  warnings.warn(label_encoder_deprecation_msg, UserWarning)\n"
     ]
    },
    {
     "name": "stdout",
     "output_type": "stream",
     "text": [
      "[02:39:37] WARNING: C:/Users/Administrator/workspace/xgboost-win64_release_1.5.0/src/learner.cc:1115: Starting in XGBoost 1.3.0, the default evaluation metric used with the objective 'binary:logistic' was changed from 'error' to 'logloss'. Explicitly set eval_metric if you'd like to restore the old behavior.\n",
      "train accuracy: 1.0 \n",
      " test accuracy: 0.825\n",
      "\n",
      "\n",
      "classification report for extreme gradient boosting classifier\n",
      "              precision    recall  f1-score   support\n",
      "\n",
      "           1       0.82      0.81      0.81       150\n",
      "           2       0.83      0.84      0.84       170\n",
      "\n",
      "    accuracy                           0.82       320\n",
      "   macro avg       0.82      0.82      0.82       320\n",
      "weighted avg       0.82      0.82      0.82       320\n",
      "\n",
      "\n",
      "\n",
      "confusion matrix for extreme gradient boosting classifier\n"
     ]
    },
    {
     "data": {
      "image/png": "[encoded data removed]",
      "text/plain": [
       "<Figure size 432x288 with 2 Axes>"
      ]
     },
     "metadata": {
      "needs_background": "light"
     },
     "output_type": "display_data"
    }
   ],
   "source": [
    "xgbw = XGBClassifier()\n",
    "model19=xgbw.fit(x_train1.values, y_train1)\n",
    "print(\"train accuracy:\",model19.score(x_train1, y_train1),\"\\n\",\"test accuracy:\",model19.score(x_test,y_test))\n",
    "\n",
    "xgbwpred = xgbw.predict(x_test.values)\n",
    "print(\"\\n\")\n",
    "print(\"classification report for extreme gradient boosting classifier\")\n",
    "print(classification_report(xgbwpred,y_test))\n",
    "print(\"\\n\")\n",
    "print(\"confusion matrix for extreme gradient boosting classifier\")\n",
    "displr = plot_confusion_matrix(xgbw, x_test.values, y_test ,cmap=plt.cm.OrRd , values_format='d')"
   ]
  },
  {
   "cell_type": "code",
   "execution_count": 85,
   "id": "ce776334",
   "metadata": {},
   "outputs": [
    {
     "name": "stdout",
     "output_type": "stream",
     "text": [
      "train accuracy: 1.0 \n",
      " test accuracy: 0.84375\n",
      "\n",
      "\n",
      "classification report for extra tree classifier\n",
      "              precision    recall  f1-score   support\n",
      "\n",
      "           1       0.82      0.84      0.83       144\n",
      "           2       0.87      0.85      0.86       176\n",
      "\n",
      "    accuracy                           0.84       320\n",
      "   macro avg       0.84      0.84      0.84       320\n",
      "weighted avg       0.84      0.84      0.84       320\n",
      "\n",
      "\n",
      "\n",
      "confusion matrix for extra tree classifier\n"
     ]
    },
    {
     "data": {
      "image/png": "[encoded data removed]",
      "text/plain": [
       "<Figure size 432x288 with 2 Axes>"
      ]
     },
     "metadata": {
      "needs_background": "light"
     },
     "output_type": "display_data"
    }
   ],
   "source": [
    "extreew = ExtraTreesClassifier()\n",
    "model20=extreew.fit(x_train1, y_train1)\n",
    "print(\"train accuracy:\",model20.score(x_train1, y_train1),\"\\n\",\"test accuracy:\",model20.score(x_test,y_test))\n",
    "\n",
    "extwpred = extreew.predict(x_test)\n",
    "print(\"\\n\")\n",
    "print(\"classification report for extra tree classifier\")\n",
    "print(classification_report(extwpred,y_test))\n",
    "print(\"\\n\")\n",
    "print(\"confusion matrix for extra tree classifier\")\n",
    "displr = plot_confusion_matrix(extreew, x_test, y_test ,cmap=plt.cm.OrRd , values_format='d')"
   ]
  },
  {
   "cell_type": "code",
   "execution_count": 86,
   "id": "d9bd89e7",
   "metadata": {},
   "outputs": [
    {
     "name": "stdout",
     "output_type": "stream",
     "text": [
      "train accuracy: 1.0 \n",
      " test accuracy: 0.85625\n",
      "\n",
      "\n",
      "classification report for voting classifier\n",
      "              precision    recall  f1-score   support\n",
      "\n",
      "           1       0.84      0.84      0.84       148\n",
      "           2       0.87      0.87      0.87       172\n",
      "\n",
      "    accuracy                           0.86       320\n",
      "   macro avg       0.86      0.86      0.86       320\n",
      "weighted avg       0.86      0.86      0.86       320\n",
      "\n",
      "\n",
      "\n",
      "confusion matrix for voting classifier\n"
     ]
    },
    {
     "data": {
      "image/png": "[encoded data removed]",
      "text/plain": [
       "<Figure size 432x288 with 2 Axes>"
      ]
     },
     "metadata": {
      "needs_background": "light"
     },
     "output_type": "display_data"
    }
   ],
   "source": [
    "clf1 = ExtraTreesClassifier()\n",
    "clf2 = RandomForestClassifier()\n",
    "\n",
    "vcw = VotingClassifier(estimators=[('ext', clf1),('rf', clf2)], voting='soft')\n",
    "model21=vcw.fit(x_train1, y_train1)\n",
    "print(\"train accuracy:\",model21.score(x_train1, y_train1),\"\\n\",\"test accuracy:\",model21.score(x_test,y_test))\n",
    "\n",
    "vcwpred = vcw.predict(x_test)\n",
    "print(\"\\n\")\n",
    "print(\"classification report for voting classifier\")\n",
    "print(classification_report(vcwpred,y_test))\n",
    "print(\"\\n\")\n",
    "print(\"confusion matrix for voting classifier\")\n",
    "displr = plot_confusion_matrix(vcw, x_test, y_test ,cmap=plt.cm.OrRd , values_format='d')"
   ]
  },
  {
   "cell_type": "code",
   "execution_count": 87,
   "id": "dce70ae7",
   "metadata": {},
   "outputs": [
    {
     "name": "stdout",
     "output_type": "stream",
     "text": [
      "train accuracy: 1.0 \n",
      " test accuracy: 0.859375\n",
      "\n",
      "\n",
      "classification report for voting classifier\n",
      "              precision    recall  f1-score   support\n",
      "\n",
      "           1       0.83      0.86      0.85       143\n",
      "           2       0.88      0.86      0.87       177\n",
      "\n",
      "    accuracy                           0.86       320\n",
      "   macro avg       0.86      0.86      0.86       320\n",
      "weighted avg       0.86      0.86      0.86       320\n",
      "\n",
      "\n",
      "\n",
      "confusion matrix for voting classifier\n"
     ]
    },
    {
     "data": {
      "image/png": "[encoded data removed]",
      "text/plain": [
       "<Figure size 432x288 with 2 Axes>"
      ]
     },
     "metadata": {
      "needs_background": "light"
     },
     "output_type": "display_data"
    }
   ],
   "source": [
    "estimators = [('rf', RandomForestClassifier(n_estimators=10, random_state=2)),('ext', make_pipeline(StandardScaler(),  ExtraTreesClassifier(random_state=12)))]\n",
    "scw= StackingClassifier( estimators=estimators, final_estimator=LogisticRegression())\n",
    "\n",
    "model22=scw.fit(x_train1, y_train1)\n",
    "print(\"train accuracy:\",model22.score(x_train1, y_train1),\"\\n\",\"test accuracy:\",model22.score(x_test,y_test))\n",
    "\n",
    "scwpred = scw.predict(x_test)\n",
    "print(\"\\n\")\n",
    "print(\"classification report for voting classifier\")\n",
    "print(classification_report(scwpred,y_test))\n",
    "print(\"\\n\")\n",
    "print(\"confusion matrix for voting classifier\")\n",
    "displr = plot_confusion_matrix(scw, x_test, y_test ,cmap=plt.cm.OrRd , values_format='d')"
   ]
  },
  {
   "cell_type": "markdown",
   "id": "220046ef",
   "metadata": {},
   "source": [
    "stacking classifier is the best model here with accuracy 85.9375%... overall both random forest in oversampling and stacking classifier in without oversampling are the best cases."
   ]
  }
 ],
 "metadata": {
  "kernelspec": {
   "display_name": "Python 3",
   "language": "python",
   "name": "python3"
  },
  "language_info": {
   "codemirror_mode": {
    "name": "ipython",
    "version": 3
   },
   "file_extension": ".py",
   "mimetype": "text/x-python",
   "name": "python",
   "nbconvert_exporter": "python",
   "pygments_lexer": "ipython3",
   "version": "3.8.8"
  }
 },
 "nbformat": 4,
 "nbformat_minor": 5
}
